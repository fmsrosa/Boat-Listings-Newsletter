{
 "cells": [
  {
   "cell_type": "markdown",
   "id": "1be8e46d-a8bf-4aa5-8a6f-0fa2d560f11f",
   "metadata": {},
   "source": [
    "# Boat Listings Newsletter"
   ]
  },
  {
   "cell_type": "markdown",
   "id": "3b8f2b84-f7f5-45e5-821d-82fb4f26e7d0",
   "metadata": {},
   "source": [
    "Import libraries"
   ]
  },
  {
   "cell_type": "code",
   "execution_count": 1,
   "id": "f6b15825-d435-4b0a-8af7-dac646592da2",
   "metadata": {},
   "outputs": [
    {
     "name": "stdout",
     "output_type": "stream",
     "text": [
      "Collecting geopy\n",
      "  Downloading geopy-2.2.0-py3-none-any.whl (118 kB)\n",
      "     |████████████████████████████████| 118 kB 27.3 MB/s            \n",
      "\u001b[?25hCollecting geographiclib<2,>=1.49\n",
      "  Downloading geographiclib-1.52-py3-none-any.whl (38 kB)\n",
      "Installing collected packages: geographiclib, geopy\n",
      "Successfully installed geographiclib-1.52 geopy-2.2.0\n"
     ]
    }
   ],
   "source": [
    "! pip install geopy"
   ]
  },
  {
   "cell_type": "code",
   "execution_count": 127,
   "id": "146d38d6-d17a-45b6-8467-f866c2f5b28c",
   "metadata": {},
   "outputs": [
    {
     "name": "stdout",
     "output_type": "stream",
     "text": [
      "Collecting squarify\n",
      "  Using cached squarify-0.4.3-py3-none-any.whl (4.3 kB)\n",
      "Installing collected packages: squarify\n",
      "Successfully installed squarify-0.4.3\n",
      "\u001b[33mWARNING: Target directory /home/repl/.local/lib/python3.8/site-packages/squarify-0.4.3.dist-info already exists. Specify --upgrade to force replacement.\u001b[0m\n",
      "\u001b[33mWARNING: Target directory /home/repl/.local/lib/python3.8/site-packages/squarify already exists. Specify --upgrade to force replacement.\u001b[0m\n"
     ]
    }
   ],
   "source": [
    "!pip install squarify"
   ]
  },
  {
   "cell_type": "code",
   "execution_count": 128,
   "id": "16d0572d-ede9-47a2-a649-d317a3aec39f",
   "metadata": {},
   "outputs": [],
   "source": [
    "import pandas as pd\n",
    "import numpy as np\n",
    "from geopy.geocoders import Nominatim\n",
    "import matplotlib.pyplot as plt\n",
    "import seaborn as sns\n",
    "\n",
    "import squarify\n",
    "import matplotlib"
   ]
  },
  {
   "cell_type": "markdown",
   "id": "031c127e-2e58-4778-bc9b-338427eba082",
   "metadata": {},
   "source": [
    "## Business Problem\n",
    "We are developing a weekly newsletter to help sellers get more views on their boats and track market trends.\n",
    "\n",
    "We want to know which features popular boats have in common, and in specific if expensive boats are more popular."
   ]
  },
  {
   "cell_type": "markdown",
   "id": "ee0e2ba3-e488-41fe-94e0-ed156ad37042",
   "metadata": {},
   "source": [
    "## Data "
   ]
  },
  {
   "cell_type": "markdown",
   "id": "b726b285-be68-4666-a32f-24cfa82006aa",
   "metadata": {},
   "source": [
    "The dataset is saved in the file 'boat_data.csv'.\n",
    "\n",
    "We will assess the dataset to identify possible issues and cleaning procedure."
   ]
  },
  {
   "cell_type": "code",
   "execution_count": 3,
   "id": "34c598a0-c0c1-4980-ab75-f9b143314f9e",
   "metadata": {},
   "outputs": [
    {
     "data": {
      "text/html": [
       "<div>\n",
       "<style scoped>\n",
       "    .dataframe tbody tr th:only-of-type {\n",
       "        vertical-align: middle;\n",
       "    }\n",
       "\n",
       "    .dataframe tbody tr th {\n",
       "        vertical-align: top;\n",
       "    }\n",
       "\n",
       "    .dataframe thead th {\n",
       "        text-align: right;\n",
       "    }\n",
       "</style>\n",
       "<table border=\"1\" class=\"dataframe\">\n",
       "  <thead>\n",
       "    <tr style=\"text-align: right;\">\n",
       "      <th></th>\n",
       "      <th>Price</th>\n",
       "      <th>Boat Type</th>\n",
       "      <th>Manufacturer</th>\n",
       "      <th>Type</th>\n",
       "      <th>Year Built</th>\n",
       "      <th>Length</th>\n",
       "      <th>Width</th>\n",
       "      <th>Material</th>\n",
       "      <th>Location</th>\n",
       "      <th>Number of views last 7 days</th>\n",
       "    </tr>\n",
       "  </thead>\n",
       "  <tbody>\n",
       "    <tr>\n",
       "      <th>0</th>\n",
       "      <td>CHF 3337</td>\n",
       "      <td>Motor Yacht</td>\n",
       "      <td>Rigiflex power boats</td>\n",
       "      <td>new boat from stock</td>\n",
       "      <td>2017</td>\n",
       "      <td>4.00</td>\n",
       "      <td>1.90</td>\n",
       "      <td>NaN</td>\n",
       "      <td>Switzerland Â» Lake Geneva Â» VÃ©senaz</td>\n",
       "      <td>226</td>\n",
       "    </tr>\n",
       "    <tr>\n",
       "      <th>1</th>\n",
       "      <td>EUR 3490</td>\n",
       "      <td>Center console boat</td>\n",
       "      <td>Terhi power boats</td>\n",
       "      <td>new boat from stock</td>\n",
       "      <td>2020</td>\n",
       "      <td>4.00</td>\n",
       "      <td>1.50</td>\n",
       "      <td>Thermoplastic</td>\n",
       "      <td>Germany Â» BÃ¶nningstedt</td>\n",
       "      <td>75</td>\n",
       "    </tr>\n",
       "    <tr>\n",
       "      <th>2</th>\n",
       "      <td>CHF 3770</td>\n",
       "      <td>Sport Boat</td>\n",
       "      <td>Marine power boats</td>\n",
       "      <td>new boat from stock</td>\n",
       "      <td>0</td>\n",
       "      <td>3.69</td>\n",
       "      <td>1.42</td>\n",
       "      <td>Aluminium</td>\n",
       "      <td>Switzerland Â» Lake of Zurich Â» StÃ¤fa ZH</td>\n",
       "      <td>124</td>\n",
       "    </tr>\n",
       "    <tr>\n",
       "      <th>3</th>\n",
       "      <td>DKK 25900</td>\n",
       "      <td>Sport Boat</td>\n",
       "      <td>Pioner power boats</td>\n",
       "      <td>new boat from stock</td>\n",
       "      <td>2020</td>\n",
       "      <td>3.00</td>\n",
       "      <td>1.00</td>\n",
       "      <td>NaN</td>\n",
       "      <td>Denmark Â» Svendborg</td>\n",
       "      <td>64</td>\n",
       "    </tr>\n",
       "    <tr>\n",
       "      <th>4</th>\n",
       "      <td>EUR 3399</td>\n",
       "      <td>Fishing Boat</td>\n",
       "      <td>Linder power boats</td>\n",
       "      <td>new boat from stock</td>\n",
       "      <td>2019</td>\n",
       "      <td>3.55</td>\n",
       "      <td>1.46</td>\n",
       "      <td>Aluminium</td>\n",
       "      <td>Germany Â» Bayern Â» MÃ¼nchen</td>\n",
       "      <td>58</td>\n",
       "    </tr>\n",
       "  </tbody>\n",
       "</table>\n",
       "</div>"
      ],
      "text/plain": [
       "       Price            Boat Type          Manufacturer                 Type  \\\n",
       "0   CHF 3337          Motor Yacht  Rigiflex power boats  new boat from stock   \n",
       "1   EUR 3490  Center console boat     Terhi power boats  new boat from stock   \n",
       "2   CHF 3770           Sport Boat    Marine power boats  new boat from stock   \n",
       "3  DKK 25900           Sport Boat    Pioner power boats  new boat from stock   \n",
       "4   EUR 3399         Fishing Boat    Linder power boats  new boat from stock   \n",
       "\n",
       "   Year Built  Length  Width       Material  \\\n",
       "0        2017    4.00   1.90            NaN   \n",
       "1        2020    4.00   1.50  Thermoplastic   \n",
       "2           0    3.69   1.42      Aluminium   \n",
       "3        2020    3.00   1.00            NaN   \n",
       "4        2019    3.55   1.46      Aluminium   \n",
       "\n",
       "                                     Location  Number of views last 7 days  \n",
       "0      Switzerland Â» Lake Geneva Â» VÃ©senaz                          226  \n",
       "1                    Germany Â» BÃ¶nningstedt                           75  \n",
       "2  Switzerland Â» Lake of Zurich Â» StÃ¤fa ZH                          124  \n",
       "3                        Denmark Â» Svendborg                           64  \n",
       "4               Germany Â» Bayern Â» MÃ¼nchen                           58  "
      ]
     },
     "execution_count": 3,
     "metadata": {},
     "output_type": "execute_result"
    }
   ],
   "source": [
    "df = pd.read_csv(\"boat_data.csv\", encoding = 'utf-8')\n",
    "df.head(5)"
   ]
  },
  {
   "cell_type": "markdown",
   "id": "635a5305-97a2-4daa-a5e0-c834fb4784bf",
   "metadata": {},
   "source": [
    "The first 5 rows indicate that the following tasks must be accomplished before analysis:\n",
    "- Price must be converted to the same currency. We will use euros. Its datatype should also be numeric.\n",
    "- The value 0 in Year Built must be assumed as missing data\n",
    "- Location is ill-formatted. For this analysis, we will only extract countries.\n",
    "\n",
    "Other problems may also exist further down in the dataset."
   ]
  },
  {
   "cell_type": "code",
   "execution_count": 4,
   "id": "8ca3ee69-661a-4c4c-9c23-8bbbf07b8359",
   "metadata": {},
   "outputs": [
    {
     "name": "stdout",
     "output_type": "stream",
     "text": [
      "(9888, 10)\n",
      "<class 'pandas.core.frame.DataFrame'>\n",
      "RangeIndex: 9888 entries, 0 to 9887\n",
      "Data columns (total 10 columns):\n",
      " #   Column                       Non-Null Count  Dtype  \n",
      "---  ------                       --------------  -----  \n",
      " 0   Price                        9888 non-null   object \n",
      " 1   Boat Type                    9888 non-null   object \n",
      " 2   Manufacturer                 8550 non-null   object \n",
      " 3   Type                         9882 non-null   object \n",
      " 4   Year Built                   9888 non-null   int64  \n",
      " 5   Length                       9879 non-null   float64\n",
      " 6   Width                        9832 non-null   float64\n",
      " 7   Material                     8139 non-null   object \n",
      " 8   Location                     9852 non-null   object \n",
      " 9   Number of views last 7 days  9888 non-null   int64  \n",
      "dtypes: float64(2), int64(2), object(6)\n",
      "memory usage: 772.6+ KB\n"
     ]
    }
   ],
   "source": [
    "print(df.shape)\n",
    "df.info()"
   ]
  },
  {
   "cell_type": "markdown",
   "id": "69539334-80b3-475f-877c-c7aa93b23834",
   "metadata": {},
   "source": [
    "We see that the dataset has 9888 rows and 10 columns. Columns Manufacturer, Type, Length, Width, Material and Location have missing data. As with Year Built there may be other columns with entries equivalent to missing data.\n",
    "\n",
    "As for datatypes, only Price needs to be changed. Let's start from there, so that we can later examine its and the other numerical variables distribution. For categorical variables, we will check their unique values."
   ]
  },
  {
   "cell_type": "markdown",
   "id": "cd3f0f9d-e9da-41a4-b21b-5f1743f0301c",
   "metadata": {},
   "source": [
    "### Correct datatype (Price)"
   ]
  },
  {
   "cell_type": "code",
   "execution_count": 5,
   "id": "b4a92941-c39d-4109-b320-90d1304f340f",
   "metadata": {},
   "outputs": [
    {
     "name": "stdout",
     "output_type": "stream",
     "text": [
      "['CHF' 'EUR' 'DKK' 'Â£']\n"
     ]
    }
   ],
   "source": [
    "price_tmp = df[\"Price\"].str.split(\" \", expand=True)\n",
    "\n",
    "print(price_tmp[0].unique())\n",
    "\n",
    "CHF_to_EUR = 0.96\n",
    "DKK_to_EUR = 0.13\n",
    "GBP_to_EUR = 1.18\n",
    "\n",
    "price_tmp[1] = pd.to_numeric(price_tmp[1])\n",
    "\n",
    "price_tmp[1] = np.where(price_tmp[0] == \"CHF\", CHF_to_EUR*price_tmp[1], price_tmp[1])\n",
    "price_tmp[1] = np.where(price_tmp[0] == \"DKK\", DKK_to_EUR*price_tmp[1], price_tmp[1])\n",
    "price_tmp[1] = np.where(price_tmp[0] == \"GBP\", GBP_to_EUR*price_tmp[1], price_tmp[1])\n",
    "\n",
    "df[\"Price\"] = price_tmp[1]"
   ]
  },
  {
   "cell_type": "markdown",
   "id": "da9f32d4-6ee5-40a7-a019-2b6745ffc3bf",
   "metadata": {},
   "source": [
    "### Distribution of numerical variables\n",
    "\n",
    "We will check the distribution of the numerical variables. We will also take this opportunity to make sure that all nulls are of the type np.nan (a float)."
   ]
  },
  {
   "cell_type": "code",
   "execution_count": 6,
   "id": "7d3388f0-a216-4d86-8d3f-e82d9cbb6d85",
   "metadata": {},
   "outputs": [],
   "source": [
    "cols = df.select_dtypes(include=np.number).columns\n",
    "df[cols] = np.where(df[cols].isnull(), np.nan, df[cols])"
   ]
  },
  {
   "cell_type": "code",
   "execution_count": 7,
   "id": "80cd634b-6896-4e20-a73f-13a2476d96ed",
   "metadata": {},
   "outputs": [
    {
     "data": {
      "text/html": [
       "<div>\n",
       "<style scoped>\n",
       "    .dataframe tbody tr th:only-of-type {\n",
       "        vertical-align: middle;\n",
       "    }\n",
       "\n",
       "    .dataframe tbody tr th {\n",
       "        vertical-align: top;\n",
       "    }\n",
       "\n",
       "    .dataframe thead th {\n",
       "        text-align: right;\n",
       "    }\n",
       "</style>\n",
       "<table border=\"1\" class=\"dataframe\">\n",
       "  <thead>\n",
       "    <tr style=\"text-align: right;\">\n",
       "      <th></th>\n",
       "      <th>Price</th>\n",
       "      <th>Year Built</th>\n",
       "      <th>Length</th>\n",
       "      <th>Width</th>\n",
       "      <th>Number of views last 7 days</th>\n",
       "    </tr>\n",
       "  </thead>\n",
       "  <tbody>\n",
       "    <tr>\n",
       "      <th>count</th>\n",
       "      <td>9.888000e+03</td>\n",
       "      <td>9888.000000</td>\n",
       "      <td>9879.000000</td>\n",
       "      <td>9832.000000</td>\n",
       "      <td>9888.000000</td>\n",
       "    </tr>\n",
       "    <tr>\n",
       "      <th>mean</th>\n",
       "      <td>2.987561e+05</td>\n",
       "      <td>1893.192860</td>\n",
       "      <td>11.570017</td>\n",
       "      <td>3.520124</td>\n",
       "      <td>149.160801</td>\n",
       "    </tr>\n",
       "    <tr>\n",
       "      <th>std</th>\n",
       "      <td>9.588034e+05</td>\n",
       "      <td>460.201582</td>\n",
       "      <td>6.002820</td>\n",
       "      <td>1.220534</td>\n",
       "      <td>151.819752</td>\n",
       "    </tr>\n",
       "    <tr>\n",
       "      <th>min</th>\n",
       "      <td>3.203520e+03</td>\n",
       "      <td>0.000000</td>\n",
       "      <td>1.040000</td>\n",
       "      <td>0.010000</td>\n",
       "      <td>13.000000</td>\n",
       "    </tr>\n",
       "    <tr>\n",
       "      <th>25%</th>\n",
       "      <td>4.275750e+04</td>\n",
       "      <td>1996.000000</td>\n",
       "      <td>7.470000</td>\n",
       "      <td>2.540000</td>\n",
       "      <td>70.000000</td>\n",
       "    </tr>\n",
       "    <tr>\n",
       "      <th>50%</th>\n",
       "      <td>9.130750e+04</td>\n",
       "      <td>2007.000000</td>\n",
       "      <td>10.280000</td>\n",
       "      <td>3.330000</td>\n",
       "      <td>108.000000</td>\n",
       "    </tr>\n",
       "    <tr>\n",
       "      <th>75%</th>\n",
       "      <td>2.450000e+05</td>\n",
       "      <td>2017.000000</td>\n",
       "      <td>13.930000</td>\n",
       "      <td>4.250000</td>\n",
       "      <td>172.000000</td>\n",
       "    </tr>\n",
       "    <tr>\n",
       "      <th>max</th>\n",
       "      <td>3.100000e+07</td>\n",
       "      <td>2021.000000</td>\n",
       "      <td>100.000000</td>\n",
       "      <td>25.160000</td>\n",
       "      <td>3263.000000</td>\n",
       "    </tr>\n",
       "  </tbody>\n",
       "</table>\n",
       "</div>"
      ],
      "text/plain": [
       "              Price   Year Built       Length        Width  \\\n",
       "count  9.888000e+03  9888.000000  9879.000000  9832.000000   \n",
       "mean   2.987561e+05  1893.192860    11.570017     3.520124   \n",
       "std    9.588034e+05   460.201582     6.002820     1.220534   \n",
       "min    3.203520e+03     0.000000     1.040000     0.010000   \n",
       "25%    4.275750e+04  1996.000000     7.470000     2.540000   \n",
       "50%    9.130750e+04  2007.000000    10.280000     3.330000   \n",
       "75%    2.450000e+05  2017.000000    13.930000     4.250000   \n",
       "max    3.100000e+07  2021.000000   100.000000    25.160000   \n",
       "\n",
       "       Number of views last 7 days  \n",
       "count                  9888.000000  \n",
       "mean                    149.160801  \n",
       "std                     151.819752  \n",
       "min                      13.000000  \n",
       "25%                      70.000000  \n",
       "50%                     108.000000  \n",
       "75%                     172.000000  \n",
       "max                    3263.000000  "
      ]
     },
     "execution_count": 7,
     "metadata": {},
     "output_type": "execute_result"
    }
   ],
   "source": [
    "df.describe()"
   ]
  },
  {
   "cell_type": "markdown",
   "id": "d1047b9f-544d-4042-b0a2-7f4277ed7764",
   "metadata": {},
   "source": [
    "Year Built is the only one with equivalent to missing data. Lets see that distribution. "
   ]
  },
  {
   "cell_type": "code",
   "execution_count": 8,
   "id": "1b62a8eb-d53a-4b6b-9d52-70dae2c35f22",
   "metadata": {},
   "outputs": [
    {
     "data": {
      "image/png": "[encoded data removed]",
      "text/plain": [
       "<Figure size 432x288 with 1 Axes>"
      ]
     },
     "metadata": {
      "needs_background": "light"
     },
     "output_type": "display_data"
    }
   ],
   "source": [
    "df[\"Year Built\"].plot.kde(title=\"Distribution of Year Built\")\n",
    "plt.xlabel(\"Year\")\n",
    "plt.show()"
   ]
  },
  {
   "cell_type": "markdown",
   "id": "8af26a26-1990-45f3-a9b2-9fc1634be750",
   "metadata": {},
   "source": [
    "It seems that the the data is either zero or larger than 1700. But to be on the safe side, we will assume that any date before 500 is missing data."
   ]
  },
  {
   "cell_type": "code",
   "execution_count": 9,
   "id": "50ccaead-ad98-4bec-b831-2f3c5f682b6d",
   "metadata": {},
   "outputs": [],
   "source": [
    "df[\"Year Built\"] = np.where(df[\"Year Built\"] < 500, np.nan, df[\"Year Built\"])"
   ]
  },
  {
   "cell_type": "markdown",
   "id": "7100f696-c4c2-4d39-ac8d-53992cb30755",
   "metadata": {},
   "source": [
    "### Distribution of categorical variables"
   ]
  },
  {
   "cell_type": "markdown",
   "id": "10f720d9-08b1-4c95-ad20-62dfe0dbde92",
   "metadata": {},
   "source": [
    "We will start by checking the unique values of each variable. We will probably not plot them in an histogram or as treemaps because there wiil probably have too many unique values.\n",
    "\n",
    "Similar to the numericalvariables, we will replace all nulls with None."
   ]
  },
  {
   "cell_type": "code",
   "execution_count": 10,
   "id": "dab8c70c-8de7-4036-8c14-8b01935aaa58",
   "metadata": {},
   "outputs": [],
   "source": [
    "cols = df.select_dtypes(include=object).columns\n",
    "df[cols] = np.where(df[cols].isnull(), None, df[cols])"
   ]
  },
  {
   "cell_type": "code",
   "execution_count": 11,
   "id": "20a25fba-37c3-49d1-90a2-0b91b3bf7720",
   "metadata": {},
   "outputs": [
    {
     "name": "stdout",
     "output_type": "stream",
     "text": [
      "Boat Type (126): ['Motor Yacht' 'Center console boat' 'Sport Boat' 'Fishing Boat'\n",
      " 'Catamaran' 'Pontoon Boat' 'Runabout' 'Deck Boat' 'Pilothouse'\n",
      " 'Cabin Boat' 'Working Boat' 'Classic' 'Bowrider'\n",
      " 'Sport Boat,Working Boat' 'Cabin Boat,Classic'\n",
      " 'Deck Boat,Pilothouse,Sport Boat' 'Trawler' 'Launch' 'Cabin Boat,Trawler'\n",
      " 'Bowrider,Classic' 'Motor Yacht,Sport Boat' 'Classic,Runabout,Sport Boat'\n",
      " 'Cabin Boat,Motor Yacht' 'Classic,Launch' 'Cabin Boat,Sport Boat'\n",
      " 'Flybridge' 'Water ski' 'Hardtop' 'Classic,Runabout' 'Offshore Boat'\n",
      " 'Cabin Boat,Sport Boat,Wakeboard/Wakesurf' 'Classic,Pontoon Boat'\n",
      " 'Classic,Motor Yacht' 'Motor Yacht,Sport Boat,Trawler'\n",
      " 'Wakeboard/Wakesurf' 'Passenger boat' 'Classic,Sport Boat,Water ski'\n",
      " 'Classic,Sport Boat' 'House Boat' 'Classic,Motorsailer'\n",
      " 'Sport Boat,Wakeboard/Wakesurf' 'Pilothouse,Sport Boat'\n",
      " 'House Boat,Motor Yacht' 'Cabin Boat,Classic,Trawler'\n",
      " 'Passenger boat,Working Boat' 'Wakeboard/Wakesurf,Water ski'\n",
      " 'Classic,Motor Yacht,Passenger boat' 'Offshore Boat,Pilothouse'\n",
      " 'Runabout,Sport Boat,Water ski' 'Bowrider,Sport Boat,Wakeboard/Wakesurf'\n",
      " 'Sport Boat,Water ski' 'Cabin Boat,Classic,Motor Yacht'\n",
      " 'Classic,Flybridge' 'Flybridge,Pilothouse' 'Flybridge,Motor Yacht'\n",
      " 'Classic,Working Boat' 'Classic,Pontoon Boat,Trawler'\n",
      " 'Sport Boat,Wakeboard/Wakesurf,Water ski' 'Classic,Trawler' 'Ketch'\n",
      " 'Runabout,Sport Boat' 'Cabin Boat,Hardtop,Trawler'\n",
      " 'Cabin Boat,Motor Yacht,Sport Boat' 'Classic,House Boat,Motor Yacht'\n",
      " 'Hardtop,Motor Yacht' 'Mega Yacht' 'Hardtop,Mega Yacht,Motor Yacht'\n",
      " 'Flybridge,Hardtop,Motor Yacht' 'Motorsailer' 'Classic,Mega Yacht'\n",
      " 'Cabin Boat,Motor Yacht,Offshore Boat' 'Center console boat,Classic'\n",
      " 'Cabin Boat,Motor Yacht,Trawler'\n",
      " 'Bowrider,Motor Yacht,Wakeboard/Wakesurf' 'Motor Yacht,Trawler'\n",
      " 'Hardtop,Motor Yacht,Sport Boat' 'Classic,House Boat,Passenger boat'\n",
      " 'House Boat,Motor Yacht,Trawler' 'Cabin Boat,Hardtop,Motor Yacht'\n",
      " 'Cabin Boat,Flybridge' 'Fishing Boat,Launch,Motor Yacht'\n",
      " 'Cabin Boat,House Boat' 'Cabin Boat,Hardtop'\n",
      " 'Bowrider,Motor Yacht,Sport Boat' 'Classic,Deck Boat'\n",
      " 'Cabin Boat,Flybridge,Motor Yacht' 'Classic,Motor Yacht,Sport Boat'\n",
      " 'Bowrider,Cabin Boat,Deck Boat' 'Motor Yacht,Wakeboard/Wakesurf'\n",
      " 'Classic,Motor Yacht,Water ski' 'Passenger boat,Runabout,Sport Boat'\n",
      " 'Offshore Boat,Sport Boat' 'Center console boat,Sport Boat'\n",
      " 'Cabin Boat,Fishing Boat,Pilothouse' 'Cabin Boat,Pilothouse'\n",
      " 'Center console boat,Fishing Boat,Sport Boat'\n",
      " 'Fishing Boat,Flybridge,Trawler' 'Motor Yacht,Sport Boat,Water ski'\n",
      " 'Cabin Boat,Hardtop,Sport Boat' 'Fishing Boat,Sport Boat'\n",
      " 'Classic,Hardtop,Motor Yacht'\n",
      " 'Center console boat,Deck Boat,Working Boat'\n",
      " 'Center console boat,Sport Boat,Water ski' 'Fishing Boat,Pilothouse'\n",
      " 'Bowrider,Wakeboard/Wakesurf' 'House Boat,Sport Boat,Trawler'\n",
      " 'Cabin Boat,House Boat,Trawler' 'Cabin Boat,Fishing Boat'\n",
      " 'Bowrider,Center console boat,Sport Boat'\n",
      " 'Cabin Boat,Pilothouse,Sport Boat' 'Cabin Boat,Classic,Passenger boat'\n",
      " 'Classic,Sport Boat,Trawler' 'Fishing Boat,Passenger boat,Sport Boat'\n",
      " 'Classic,Fishing Boat,Working Boat'\n",
      " 'Center console boat,Deck Boat,Sport Boat' 'Cabin Boat,Classic,Flybridge'\n",
      " 'Fishing Boat,Hardtop,Pilothouse' 'Cabin Boat,Fishing Boat,House Boat'\n",
      " 'Cabin Boat,Sport Boat,Water ski' 'Bowrider,Deck Boat,Water ski' 'RIB'\n",
      " 'Deck Boat,Water ski' 'Classic,Fishing Boat' 'Hardtop,Sport Boat'\n",
      " 'Cabin Boat,Fishing Boat,Sport Boat' 'Classic,Runabout,Trawler']\n",
      "\n",
      "Manufacturer (911): ['Rigiflex power boats' 'Terhi power boats' 'Marine power boats'\n",
      " 'Pioner power boats' 'Linder power boats' None 'Crescent power boats'\n",
      " 'Whaly power boats' 'GS Nautica power boats' 'Kimple power boats'\n",
      " 'Italmarine power boats' 'Buster power boats' 'BÃ©nÃ©teau power boats'\n",
      " 'Quicksilver (Brunswick Marine) power boats' 'Kammin power boats'\n",
      " 'Bucher power boats' 'MÃ¤ndli power boats' 'Draco power boats'\n",
      " 'Hensa  power boats' 'Ibis power boats' 'Rio power boats'\n",
      " 'Jouandoudet power boats' 'Corsiva power boats' 'Saver power boats'\n",
      " 'Ilver power boats' 'Skibsplast power boats' 'Allegra power boats'\n",
      " 'Viking power boats' 'Staempfli power boats' 'Fiberline power boats'\n",
      " 'Uttern power boats' 'Schweizer power boats' 'Cranchi power boats'\n",
      " 'Brig power boats' 'Dawncraft power boats' 'Invader power boats'\n",
      " 'Hille power boats' 'Bienchen  power boats' 'Fjord power boats'\n",
      " 'Ecofiber power boats' 'Pollini power boats' 'Lambro power boats'\n",
      " 'Elan power boats' 'Fletcher power boats' 'Sessa power boats'\n",
      " 'Ultramar power boats' 'Yachting France power boats'\n",
      " 'B2 Marine power boats' 'Volvo power boats' 'Sunseeker power boats'\n",
      " 'Mingolla power boats' 'Karel power boats' 'Beekmann power boats'\n",
      " 'Salmeri Boote power boats' 'Sunbird power boats' 'Jeanneau power boats'\n",
      " 'Hellwig power boats' 'Janmor power boats' 'Gouwerok power boats'\n",
      " 'Marino CN power boats' 'Orkney power boats' 'Sting power boats'\n",
      " 'Moonday power boats' 'Trimarchi  power boats' 'Cox Marine power boats'\n",
      " 'Majoni power boats' 'Supra power boats' 'Italmar power boats'\n",
      " 'Safter Marine power boats' 'Century power boats' 'Bayliner power boats'\n",
      " 'Cigala & Bertinetti power boats' 'Costruzioni Navali Srl power boats'\n",
      " 'Werner  power boats' 'A. Mostes power boats' 'Chrysler power boats'\n",
      " 'Stingray power boats' 'Mery Nautic power boats' 'Glastron power boats'\n",
      " 'Sea Ray power boats' 'Birchwood power boats' 'BlueCraft power boats'\n",
      " 'Remus power boats' 'Quicksilver power boats' 'Polar power boats'\n",
      " 'Wiking power boats' 'Gobbi power boats' 'Atlantic Marine power boats'\n",
      " 'Tinn-Silver power boats' 'Larson power boats' 'Four Winns power boats'\n",
      " 'Maxima power boats' 'Gropp power boats' 'Schlosswerft power boats'\n",
      " 'Compromis power boats' 'Ranieri International power boats'\n",
      " 'Windy power boats' 'Yamarin power boats' 'Eolo power boats'\n",
      " 'Acquaviva (IT) power boats' 'Arvor power boats' 'Lema power boats'\n",
      " 'Ranieri power boats' 'Smartliner power boats' 'Karnic power boats'\n",
      " 'Seagull power boats' 'Romar power boats' 'SAS-Vektor power boats'\n",
      " 'Rinker power boats' 'Marinello power boats' 'Vizion power boats'\n",
      " 'Hilter power boats' 'Seaswirl power boats' 'Maxum power boats'\n",
      " 'Fjord Plast power boats' 'Scand power boats' 'Hoekstra power boats'\n",
      " 'SkilsÃ¶ power boats' 'Atlanta power boats' 'VBoats power boats'\n",
      " 'Milan  power boats' 'AMT power boats' 'Doral power boats'\n",
      " 'Morningstar power boats' 'Bombardier power boats'\n",
      " 'Wellcraft power boats' 'Fairline power boats' 'Moonfleet power boats'\n",
      " 'GioMare power boats' 'Bella power boats' 'Lund Boats power boats'\n",
      " 'Mariah power boats' 'Ocqueteau power boats' 'Pedro power boats'\n",
      " 'Hanto power boats' 'Winga power boats' 'Campion power boats'\n",
      " 'Correct Craft power boats' 'Pegazus power boats'\n",
      " 'Tullio Abbate power boats' 'Saura power boats' 'Nidelv power boats'\n",
      " 'Ebbtide power boats' 'Drago Boats power boats' 'Clear power boats'\n",
      " 'Nor-Dan power boats' 'Invictus power boats' 'Donzi power boats'\n",
      " 'Sea-Doo power boats' 'Chris Craft power boats' 'Beachcraft power boats'\n",
      " 'Waterland power boats' 'KOK power boats' 'Mazury power boats'\n",
      " 'Calcagno power boats' 'Pacific Craft power boats' 'Galia power boats'\n",
      " 'Cytra power boats' 'Crownline power boats' 'Solcio power boats'\n",
      " 'Ala Blu power boats' 'Kelt power boats' 'Boesch power boats'\n",
      " 'Doerak Sneek power boats' 'Airon Marine power boats' 'Saga power boats'\n",
      " 'Finnmaster power boats' 'DarekCo power boats' 'FÃ¼llemann power boats'\n",
      " 'BMA power boats' 'Capelli power boats' 'Rio Iberica power boats'\n",
      " 'Intermare power boats' 'Cobalt power boats' 'Monterey power boats'\n",
      " 'Azimut power boats' 'Arkos power boats' 'Riva power boats'\n",
      " 'Sunchaser power boats' 'Master power boats' 'Baja power boats'\n",
      " 'Galeon power boats' 'Nordkapp power boats' 'Regal power boats'\n",
      " 'Cascaruda power boats' 'Schneiter power boats'\n",
      " 'The Captains power boats' 'Bruno Abbate power boats'\n",
      " 'Faeton power boats' 'ERC power boats' 'Marex power boats'\n",
      " 'Piantoni power boats' 'Sciallino power boats' 'Storebro power boats'\n",
      " 'IMP Boats power boats' 'Viko power boats'\n",
      " 'Cantieri Nautici Ferrario power boats' 'Formula power boats'\n",
      " 'Dellapasqua power boats' 'Colombo power boats' 'Williams power boats'\n",
      " 'Raffaelli power boats' 'Malibu power boats' 'Trophy power boats'\n",
      " 'Chaparral power boats' 'Aquador power boats' 'Nautique power boats'\n",
      " 'Galaxy power boats' 'Carver power boats' 'Parker power boats'\n",
      " 'Seebold power boats' 'AM Yacht power boats' 'ManÃ² power boats'\n",
      " 'West Bay power boats' 'Boston Whaler power boats' 'Princess power boats'\n",
      " 'Apreamare power boats' 'Polar Boats power boats' 'Skarpnes power boats'\n",
      " 'Rancraft power boats' 'Bertram Yacht power boats' 'Blumar power boats'\n",
      " 'Blohm + Voss power boats' 'Slepsk power boats' 'Acroplast power boats'\n",
      " 'Hollandia power boats' 'Hardy Marine power boats'\n",
      " 'Selection Boats power boats' 'Coverline power boats' 'AYROS power boats'\n",
      " 'Fiart Mare power boats' 'Antaris power boats' 'IRON power boats'\n",
      " 'MasterCraft power boats' 'ST power boats' 'Osprey power boats'\n",
      " 'Cruisers Yachts power boats' 'San Remo power boats'\n",
      " 'Ten Broeke power boats' 'Gillissen power boats'\n",
      " 'Harris FloteBote power boats' 'AluForce power boats'\n",
      " 'KaasbÃ¸ll power boats' 'AW power boats' 'Escape Sloepen power boats'\n",
      " 'Nimbus power boats' 'Lunde power boats' 'Scout Boats power boats'\n",
      " 'Bavaria power boats' 'Rodman power boats' 'Broom power boats'\n",
      " 'Alfastreet Marine power boats' 'Rhea power boats' 'Biam power boats'\n",
      " 'Saxdor power boats' 'Comitti power boats' 'Loon power boats'\n",
      " 'Damor power boats' 'Amerglass power boats'\n",
      " 'Ocean Master (US) power boats' 'Skagerrak power boats'\n",
      " 'Scarani power boats' 'Windy Oceancraft power boats'\n",
      " 'Sealine power boats' 'Coaster power boats' 'Fibramar power boats'\n",
      " 'Guy Couach power boats' 'Myabca power boats' 'Starcraft power boats'\n",
      " 'Eurocrown power boats' 'Viper power boats' 'Doqueve power boats'\n",
      " 'Altena power boats' 'Axis power boats' 'Selva power boats'\n",
      " 'EdgeWater power boats' 'Scanner power boats' 'Tresfjord power boats'\n",
      " 'Pursuit power boats' 'Riviera power boats' 'Conam power boats'\n",
      " 'Vri-Jon power boats' 'Inter power boats' 'Primatist power boats'\n",
      " 'Starfisher power boats' 'de Ruiter power boats'\n",
      " 'Thermo Yacht power boats' 'Maril power boats' 'Linssen power boats'\n",
      " 'Sensation power boats' 'Kaiser Bootsmanufaktur power boats'\n",
      " 'Flipper power boats' 'TigÃ© power boats' 'Alpa power boats'\n",
      " 'NUVA Yachts power boats' 'President power boats' 'Calafuria power boats'\n",
      " 'Gallart power boats' 'ACM Dufour power boats' 'Absolute power boats'\n",
      " 'Moomba power boats' 'Pro-Line power boats' 'Tecnomar power boats'\n",
      " 'Menorquin power boats' 'Tiara power boats' 'Seaco power boats'\n",
      " 'Nautica Esposito power boats' 'Piantoni (IT) power boats'\n",
      " 'AS Marine power boats' 'Tegernseer Bootsbau power boats'\n",
      " 'Cantieri Navali di Livorno power boats' 'Mochi Craft power boats'\n",
      " 'Tornado power boats' 'Sagemar power boats' 'De Boarnstream power boats'\n",
      " 'Gavazzi Luciano power boats' 'Siemer power boats' 'Veha power boats'\n",
      " 'Ijlstervlet power boats' 'Europe Marine power boats'\n",
      " 'Vizianello power boats' 'Hooveld power boats'\n",
      " 'Egon Bredgaard power boats' 'Gruno power boats' 'Cayman power boats'\n",
      " 'Bertram power boats' 'Blackfin power boats' 'Sanlorenzo power boats'\n",
      " 'Diano power boats' 'Comar power boats' 'Baess power boats'\n",
      " 'Gulf Craft power boats' 'Ganz Boats power boats' 'Brandsma power boats'\n",
      " 'HI-Star power boats' 'Stickl power boats' 'Marina Brodersby power boats'\n",
      " 'Cormate power boats' 'Tahoe power boats' 'Hock power boats'\n",
      " 'Nor Star power boats' 'Salpa power boats' 'Albemarle power boats'\n",
      " 'Sonic power boats' 'Cigarette power boats'\n",
      " 'Northshore Yachts power boats' 'Mako Boats power boats'\n",
      " 'Back Cove power boats' 'Rampage power boats' 'Off-Course power boats'\n",
      " 'Innovazioni e Progetti power boats' 'Marine Offshore power boats'\n",
      " 'Rapsody power boats' 'Condor Yachting power boats'\n",
      " 'Viking Marin power boats' 'Gagliotta power boats'\n",
      " 'Carnevali power boats' 'Italcraft power boats' 'De Groot power boats'\n",
      " 'Uniesse power boats' 'Blauwe Hand power boats' 'Aquanaut power boats'\n",
      " 'Grginic power boats' 'Robalo power boats' 'Camuffo power boats'\n",
      " 'Blue Ocean power boats' 'Statement Marine power boats'\n",
      " 'Viknes power boats' 'Wim van der Valk power boats'\n",
      " 'Ferretti power boats' 'HT Houseboats power boats'\n",
      " 'Super van Craft power boats' 'Jan Van Gent power boats'\n",
      " 'Targa power boats' 'Zijlmans power boats' 'Makma power boats'\n",
      " 'Viksund power boats' 'Itama power boats' 'Pershing power boats'\n",
      " 'Haines power boats' 'Frauscher power boats' 'Amer power boats'\n",
      " 'Neptunus Yachts power boats' 'Pikmeerkruiser power boats'\n",
      " 'Vacance power boats' 'Neptunus power boats' 'Centurion power boats'\n",
      " 'Giudecca power boats' 'Grandezza power boats' 'Glacer power boats'\n",
      " 'Tony Giugliano power boats' 'American Marine power boats'\n",
      " 'Platinum power boats' 'Stama power boats' 'Succes power boats'\n",
      " 'Proficiat power boats' 'Edership power boats' 'Grand Banks power boats'\n",
      " 'Leopard power boats' 'Ã\\x96chsner power boats'\n",
      " 'Brunnert-Grimm power boats' 'Tecnomarine power boats'\n",
      " 'AB Yachts power boats' 'AXOPAR power boats' 'Amel power boats'\n",
      " 'Vismara power boats' 'Scarab power boats' 'Haines Marine power boats'\n",
      " 'Funcraft power boats' 'Nasbo power boats' 'Rohn power boats'\n",
      " 'Altair power boats' 'Scandinavia power boats' 'Anytec Boats power boats'\n",
      " 'Symbol Yachts power boats' 'La Mare power boats' 'Ecoline power boats'\n",
      " 'ARS Mare power boats' 'Astondoa power boats' 'Pedrazzini power boats'\n",
      " 'Sarnico power boats' 'Italversil power boats' 'Prinz power boats'\n",
      " 'Astor power boats' 'Greenline power boats' 'Cobra Yachts power boats'\n",
      " 'Baia power boats' 'Rizzardi power boats' 'Atlantis power boats'\n",
      " 'Seaway power boats' 'Mainship power boats' 'Smelne power boats'\n",
      " '3B Craft power boats' 'Heinrich power boats'\n",
      " 'Fratelli Aprea power boats' 'Vertens power boats' 'XO Boats power boats'\n",
      " 'Teltow Werft power boats' 'Vedette power boats' 'Marhen power boats'\n",
      " 'Mirakul power boats' 'Delphia power boats' 'Nord Star power boats'\n",
      " 'SAY power boats' 'De Antonio Yachts power boats' 'Blue Navy power boats'\n",
      " 'Cantieri di Sarnico power boats' 'Valk power boats'\n",
      " 'Hatteras power boats' 'Wake power boats' 'Portofino Marine power boats'\n",
      " 'Di Donna power boats' 'Ventus power boats' 'Tuccoli power boats'\n",
      " 'Katwijker power boats' 'Sarins power boats' 'Ocean Yachts power boats'\n",
      " 'Cabo power boats' 'Prestige Yachts power boats'\n",
      " 'Performance power boats' 'Arcoa power boats' 'Elling power boats'\n",
      " 'Meridian Yachts power boats' 'Atlantic Motor Yachts power boats'\n",
      " 'XL Marine power boats' 'Gianetti power boats' 'Treffer power boats'\n",
      " 'Valkkruiser power boats' 'van der Heijden power boats'\n",
      " 'Kiel Classic power boats' 'Piculjan Marine power boats'\n",
      " 'AluVenture power boats' 'Marine Yachting power boats'\n",
      " 'Posillipo power boats' 'Aqualum power boats' 'Pfeil power boats'\n",
      " 'Topaz power boats' 'Terra Nauta power boats' 'Feltz power boats'\n",
      " 'Premier power boats' 'Pacific power boats' 'Majesty Yachts power boats'\n",
      " 'Techno Yachts power boats' 'Catfish power boats'\n",
      " 'Falcon Yachts power boats' 'Numarine power boats'\n",
      " 'C.N. Tigullio power boats' 'Egemar power boats' 'Koopmans power boats'\n",
      " 'Pollard power boats' 'Trader Motor Yachts power boats'\n",
      " 'Cantieri Nautici Dalla Pieta power boats' 'Cantieri Estensi power boats'\n",
      " 'VanDutch power boats' 'Fountaine Pajot power boats' 'Aicon power boats'\n",
      " 'Zeeland Jachtbouw power boats' 'Technohull power boats'\n",
      " 'Elegance power boats' 'Euroship power boats' 'Baikal power boats'\n",
      " 'Admiral power boats' 'Horizon Yacht power boats'\n",
      " 'AICON Yachts power boats' 'Hagenah power boats' 'Marquis power boats'\n",
      " 'Alalunga power boats' 'Overblue power boats' 'Integrity power boats'\n",
      " 'Dominator power boats' 'De Vries power boats' 'Dalla Pieta power boats'\n",
      " 'Alfamarine power boats' 'Brabus power boats' 'Skagen power boats'\n",
      " 'Super Lauwersmeer power boats' 'Doggersbank power boats'\n",
      " 'Pearl power boats' 'Overmarine power boats' 'Blu Martin power boats'\n",
      " 'Mangusta power boats' 'Vitech power boats' 'Queens Yachts power boats'\n",
      " 'Abacus power boats' 'Jongert power boats' 'Spertini power boats'\n",
      " 'Maxi Dolphin power boats' 'Tarquin power boats'\n",
      " 'Brizo Yachts power boats' 'Fincantieri Yachts power boats'\n",
      " 'Maiora power boats' 'Selene power boats' 'Catarsi power boats'\n",
      " 'Monte Carlo power boats' 'MCY power boats' 'Canados power boats'\n",
      " 'Tecnorib power boats' 'BLUEGAME power boats'\n",
      " 'Cantieri Schiavone power boats' 'Bandido Yachts power boats'\n",
      " 'Richard Dunston power boats' 'Benetti power boats' 'Sossego power boats'\n",
      " 'Bugari power boats' 'Baglietto power boats' 'Moonen power boats'\n",
      " 'Cantiere delle Marche power boats' 'Curvelle power boats'\n",
      " 'Cantieri di Pisa power boats' 'Abeking & Rasmussen power boats'\n",
      " 'Rodriguez Group (Italyachts) power boats' 'Heesen Yachts power boats'\n",
      " 'Palmer Johnson power boats' 'Perini Navi Spa power boats'\n",
      " 'Johnson power boats' 'Couach power boats' 'ISA Yachts power boats'\n",
      " 'Aegean Yachts power boats' 'Sunreef power boats'\n",
      " 'Magic Yachts power boats' 'Bering Yachts power boats'\n",
      " 'Drettmann power boats' 'Filippetti power boats' 'Ocea power boats'\n",
      " 'Northern Marine power boats' 'Ses Yachts power boats'\n",
      " 'Lengers power boats' 'Permare power boats' 'Pirelli power boats'\n",
      " 'Mondo marine power boats' 'Explorer power boats'\n",
      " 'Delta Powerboats power boats' 'Monte Fino power boats'\n",
      " 'Royal Denship power boats' 'Cobrey power boats' 'Silverline power boats'\n",
      " 'Ocean Alexander power boats' 'Jetten power boats'\n",
      " 'Austin Parker power boats' 'Fipa Italiana power boats' 'EVO power boats'\n",
      " 'Alen Yacht power boats' 'Jaguar power boats' 'Yaretti power boats'\n",
      " 'Belliure power boats' 'Verhoeven power boats' 'Sasga Yachts power boats'\n",
      " 'Monachus power boats' 'Azzurro power boats'\n",
      " 'LÃ¼rssen Yachts power boats' 'Pantera power boats' 'HervÃ© power boats'\n",
      " 'Navalia power boats' 'Anytec power boats' 'Franchini power boats'\n",
      " 'VICEM power boats' 'Burger power boats' 'Marine Projects power boats'\n",
      " 'PR Marine power boats' 'Adagio Yachts power boats' 'Magnum power boats'\n",
      " 'Lagoon power boats' 'Abati Yachts power boats' 'Oyster power boats'\n",
      " 'Linden power boats' 'Giorgi power boats' 'Albatro power boats'\n",
      " 'Marian power boats' 'Swiss Craft power boats'\n",
      " 'Erman Yachting power boats' 'Rose Island power boats'\n",
      " 'Hitzler-Werft Regensburg power boats' 'Lavagna power boats'\n",
      " 'Hemiksem power boats' 'Pavati power boats' 'Biot power boats'\n",
      " 'Tryvia power boats' 'Sabre power boats' 'Jacabo power boats'\n",
      " 'Minor power boats' 'AGA-Marine power boats' 'Momenta power boats'\n",
      " 'Zuiderzee power boats' 'Motiva power boats'\n",
      " 'Rivers and Tides power boats' 'Q-Yachts power boats'\n",
      " 'ReLine power boats' 'Wider power boats' 'Concordia power boats'\n",
      " 'Nautilus power boats' 'Solare power boats' 'Nord West power boats'\n",
      " 'Swordsman power boats' 'Innovazione&Progetti power boats'\n",
      " 'Enterprise Marine power boats' 'Unica Yacht power boats'\n",
      " 'Babro power boats' 'Knierim Yachtbau power boats'\n",
      " 'Orskov Skibsvaerft power boats' 'Chung Hwa power boats'\n",
      " 'Premiere Yacht power boats' 'Aquastar power boats'\n",
      " 'van Wijk power boats' 'Privateer power boats' 'Need Yacht power boats'\n",
      " 'Linex power boats' 'Marino power boats' 'Stormer power boats'\n",
      " 'Trojan power boats' 'Hans A. Deerberg power boats'\n",
      " 'Stilecatalini power boats' 'Flevo power boats' 'Eurobanker power boats'\n",
      " 'QErre power boats' 'Mira power boats' 'Formula Cruisers power boats'\n",
      " 'Motomar power boats' 'Kronborg Marine power boats'\n",
      " 'Suncoast power boats' 'Trawler power boats' 'Dufour power boats'\n",
      " 'Baltic power boats' 'Hellingskip power boats' 'Best power boats'\n",
      " '2 emme marine power boats' 'Rayglass power boats' 'Hustler power boats'\n",
      " 'Garin power boats' 'Waltjen power boats' 'Forbina power boats'\n",
      " 'Lex Boats power boats' 'Balt Yacht power boats'\n",
      " 'Bryant Boats power boats' 'Polaris power boats'\n",
      " 'Pearlsea Yachts power boats' 'MBK power boats' 'Recla power boats'\n",
      " 'Johnson Yachts power boats' 'SACS power boats' 'Bege power boats'\n",
      " 'Ibiza Boats power boats' 'Fartes power boats' 'Blue Sailors power boats'\n",
      " 'Grady White Boats power boats' 'Lamor power boats' 'Ta Yang power boats'\n",
      " 'Poldijk Jachtbouw B.V. power boats' 'Striker power boats'\n",
      " 'Cantieri Navali Arno power boats' 'Schachner power boats'\n",
      " 'Hoya power boats' 'Paragon power boats' 'Novurania power boats'\n",
      " 'Nordic power boats' 'SBM power boats' 'Nuova Jolly power boats'\n",
      " 'Rand Boats power boats' 'Bellcraft power boats' 'Hunton power boats'\n",
      " 'Barkas power boats' 'van de Werf power boats' 'Skilso power boats'\n",
      " 'Kramer power boats' 'Colvic power boats' 'Kraps power boats'\n",
      " 'Luhrs power boats' 'Carolina Classic power boats' 'Liberty power boats'\n",
      " 'Pegiva power boats' 'Kempala (NL) power boats' 'Astinor power boats'\n",
      " 'Waterdream power boats' 'Island Gypsy power boats' 'Oost power boats'\n",
      " 'AL Custom power boats' 'Schaefer power boats' 'Holland Boat power boats'\n",
      " 'AMS Marine Yachten power boats' 'Heyday power boats'\n",
      " 'Z-Yacht power boats' 'Technus power boats' 'D-Boat power boats'\n",
      " 'Suncamper power boats' 'Agder power boats' 'MAS power boats'\n",
      " 'MMS power boats' 'Yacht Service SP. z o.o.  power boats'\n",
      " 'Tristan power boats' 'Silver power boats' 'Hiltergerke power boats'\n",
      " 'Wicabo power boats' 'Haber power boats' 'Nautica power boats'\n",
      " 'Finnlineboats power boats' 'Fountain power boats'\n",
      " 'Sylvan Marine power boats' 'Kempers power boats'\n",
      " 'Corvette Cruisers power boats' 'Ayros power boats' 'Shiren power boats'\n",
      " 'Wajer power boats' 'Barro power boats' 'Bootbau Frei power boats'\n",
      " 'Bond Yachts power boats' 'Vrijbuiter power boats'\n",
      " 'Adex Nautica power boats' 'Center Craft power boats'\n",
      " 'Westwind power boats' 'NorthMaster power boats' 'Cramar power boats'\n",
      " 'Arp-Werft  power boats' 'White Shark power boats'\n",
      " 'Thunderbird power boats' 'Klase A power boats' 'Zeta Group power boats'\n",
      " 'Triton power boats' 'Steilsteven power boats' 'Argo power boats'\n",
      " 'Moschini power boats' 'Akerboom power boats' 'Cap Ferret power boats'\n",
      " 'Faul power boats' 'Flying Shark power boats' 'Tjeukemer power boats'\n",
      " 'Walser power boats' 'Amberg power boats' 'Nicols power boats'\n",
      " 'Aquarius power boats' 'Javazzo power boats'\n",
      " 'Yachtwerft Berlin power boats' 'Riva Bertram power boats'\n",
      " 'FFW Sealver power boats' 'Futuro power boats' 'Idea Marine power boats'\n",
      " 'Primeur power boats' 'Marco Yachts power boats' 'Leidi power boats'\n",
      " 'Yamaha power boats' 'Smartboat power boats' 'Sigrist power boats'\n",
      " 'WeiBo power boats' 'Nordmanns power boats'\n",
      " 'VZ Cantiere Nautico power boats' 'Ancora power boats'\n",
      " 'Gibert Marine power boats' 'Dacapo power boats'\n",
      " 'Interboat DE power boats' 'Schottel power boats'\n",
      " 'Prins van Oranje power boats' 'Bazzerla power boats'\n",
      " 'Adventure power boats' 'Tracker Marine power boats' 'Fidego power boats'\n",
      " 'Parente power boats' 'Victoria power boats' 'Envision power boats'\n",
      " 'Graso power boats' 'Helstede power boats' 'AW Yachts power boats'\n",
      " 'VTS Boats power boats' 'Zetacraft power boats'\n",
      " 'ZAR Formenti power boats' 'Sea Pro power boats' 'Coronet power boats'\n",
      " 'Boatbuilding Academy Dorset power boats' 'Blom power boats'\n",
      " 'Kapiteinssloep power boats' 'Aluminiumjon power boats'\n",
      " 'Quicksilver Inflatables power boats' 'Thoma power boats'\n",
      " 'Orca power boats' 'ATOMIX power boats' 'Buetzfleth power boats'\n",
      " 'Nadirmarine power boats' 'Aquabat power boats' 'Saphire power boats'\n",
      " 'Olympic power boats' 'Thompson power boats' 'Intrepid power boats'\n",
      " 'Weidling power boats' 'Moonraker power boats' 'Valiant power boats'\n",
      " 'Bluline power boats' 'Voyager power boats' 'BSC power boats'\n",
      " 'Albin power boats' 'Huber power boats' 'Tauscheck power boats'\n",
      " 'BWA power boats' 'Bimax power boats' 'De Wiel power boats'\n",
      " 'Viking (GB) power boats' 'Numo power boats' 'MP Watersport power boats'\n",
      " 'Searider power boats' 'CAD Marine power boats' 'Sport Craft power boats'\n",
      " 'Nordmaster power boats' 'Rijo Kruiser power boats'\n",
      " 'Cantieri Nautici Solcio power boats' 'Mirage power boats'\n",
      " 'Schwarz power boats' 'HoWa power boats'\n",
      " 'Holland StahlverdrÃ¤nger power boats' 'Nordson power boats'\n",
      " 'LÃ¼tje power boats' 'Super Kaagkruiser power boats'\n",
      " 'Waddenkruiser power boats' 'Viko Yachts power boats' 'Selje power boats'\n",
      " 'Crestliner power boats' 'Checkmate power boats' 'Celebrity power boats'\n",
      " 'Caravelle power boats' 'Jans power boats' 'Rijnkruiser power boats'\n",
      " 'Witti power boats' 'Suzuki power boats' 'Freedom power boats'\n",
      " 'Schweizer Bateaux power boats' 'Renken power boats'\n",
      " 'Ott Werft power boats' 'VEB power boats' 'Ocean Bay power boats'\n",
      " 'Navalplastica power boats' 'V2 Boats  power boats' 'Adler power boats'\n",
      " 'Sea Sprite power boats' 'Kirie power boats' 'Hasler power boats'\n",
      " 'Starweld power boats' 'Bluewater Yachts power boats' 'Scar power boats'\n",
      " 'Marino Costruzioni Nautiche power boats' 'Armee Suisse power boats'\n",
      " 'Allround power boats' 'Martin power boats' 'Adec power boats'\n",
      " 'BM Nautica SRL power boats' 'Dynasty power boats' 'Titanium power boats'\n",
      " 'Ranger power boats' 'Seacode power boats' 'Nussbaumer power boats'\n",
      " 'Nireus power boats' 'Meier power boats' 'J2J Service power boats'\n",
      " 'Bombard power boats' 'BLULINE (IT) power boats' 'Stalder power boats'\n",
      " 'Zodiac power boats' 'UMS-Boat power boats' 'Marieholm power boats'\n",
      " 'Sealver power boats' 'Marine Pro power boats' 'Verus power boats'\n",
      " 'Joda power boats' 'Reinell power boats' 'Selco power boats'\n",
      " 'Poca power boats' 'Webbcraft power boats' 'Ockelbo power boats'\n",
      " 'Interster power boats' 'Ernst Riss  power boats' 'Motocraft power boats'\n",
      " 'Steiner power boats' 'Baha power boats' 'Aquaviva power boats'\n",
      " 'Hatecke power boats' 'Cipax AS power boats' 'Hunter power boats']\n",
      "\n",
      "Type (25): ['new boat from stock' 'Used boat,Unleaded' 'Used boat'\n",
      " 'Used boat,Electric' 'new boat from stock,Unleaded' 'Used boat,Diesel'\n",
      " 'new boat on order' 'Unleaded' 'new boat on order,Unleaded'\n",
      " 'new boat from stock,Gas' 'Diesel' 'Display Model,Unleaded'\n",
      " 'Display Model' None 'Used boat,Gas' 'new boat from stock,Diesel'\n",
      " 'new boat from stock,Electric' 'new boat on order,Diesel'\n",
      " 'new boat from stock,Hybrid' 'Display Model,Diesel' 'Used boat,Hybrid'\n",
      " 'Display Model,Gas' 'Display Model,Electric' 'Electric'\n",
      " 'Used boat,Propane']\n",
      "\n",
      "Material (12): [None 'Thermoplastic' 'Aluminium' 'GRP' 'PVC' 'Plastic' 'Wood' 'Steel'\n",
      " 'Hypalon' 'Carbon Fiber' 'Reinforced concrete' 'Rubber']\n",
      "\n",
      "Location (2996): ['Switzerland Â» Lake Geneva Â» VÃ©senaz' 'Germany Â» BÃ¶nningstedt'\n",
      " 'Switzerland Â» Lake of Zurich Â» StÃ¤fa ZH' ...\n",
      " 'Switzerland Â» Rhein Â» MÃ¶hlin' 'Switzerland Â» Lake of Zurich Â» Rafz'\n",
      " 'Switzerland Â» Bielersee Â» Gerolfingen']\n",
      "\n"
     ]
    }
   ],
   "source": [
    "for col in df.select_dtypes(include=object).columns:\n",
    "    print(\"{} ({}): {}\\n\".format(col, len(df[col].unique()), df[col].unique()))"
   ]
  },
  {
   "cell_type": "markdown",
   "id": "c90f7ebb-eb02-4995-ac7b-78388fefa9d0",
   "metadata": {},
   "source": [
    "In Boat Type, we have multiple types in a single entry, e.e. 'Center console boat,Sport Boat,Water ski'. We need to separate these values, check again the number of unique values, while keeping note of the entries thay have these values. We will use one hot encoding.\n",
    "\n",
    "In Manufacturer, it seems that all entries have 'power boats'. We can verify this and drop them. This will make our graphs more legible.\n",
    "\n",
    "In Type, we have the same situation as in Boat Type and will proceed alike.\n",
    "\n",
    "Material looks okay.\n",
    "\n",
    "We will extract the country from Location, using \" Â» \" as separator and geopy."
   ]
  },
  {
   "cell_type": "code",
   "execution_count": 12,
   "id": "19dcb063-e8e9-4b62-aedd-99e876c0b5c1",
   "metadata": {},
   "outputs": [],
   "source": [
    "def do_one_hot_enconding (df, col): \n",
    "    tmp = df[col].str.split(\",\", expand=True)\n",
    "    cols = pd.unique(tmp.values.ravel('K'))  \n",
    "    cols = np.delete(cols, np.where(cols == None))\n",
    "    if col == \"Boat Type\":\n",
    "        cols_names = [\"Boat type_\" + str(i) for i in cols]\n",
    "    else:\n",
    "        cols_names = [col + \"_\" + str(i) for i in cols]\n",
    "\n",
    "    df_new = pd.DataFrame(data = np.zeros((len(df), len(cols)), \n",
    "                                            dtype=int), columns = cols_names)\n",
    "    \n",
    "    for entry, col_name in zip(cols, cols_names):\n",
    "        ind_tmp = df[df[col].notnull() & df[col].str.contains(entry)].index\n",
    "        df_new.loc[ind_tmp, col_name] = 1\n",
    "        \n",
    "    return df_new"
   ]
  },
  {
   "cell_type": "code",
   "execution_count": 13,
   "id": "e60ad260-08d9-406e-b3cd-87ceb17e1101",
   "metadata": {},
   "outputs": [],
   "source": [
    "df_boat_type = do_one_hot_enconding (df, 'Boat Type')\n",
    "df_type = do_one_hot_enconding (df, 'Type')"
   ]
  },
  {
   "cell_type": "code",
   "execution_count": 14,
   "id": "2ee202f4-e2bf-4938-948b-5b62f3b5c950",
   "metadata": {},
   "outputs": [
    {
     "name": "stdout",
     "output_type": "stream",
     "text": [
      "Do all entries have the expression 'power boats' in the variable Manufacturer (except nulls)?\n",
      "True\n"
     ]
    }
   ],
   "source": [
    "print(\"Do all entries have the expression 'power boats' in the variable Manufacturer (except nulls)?\")\n",
    "print(len(df[df['Manufacturer'].notnull()]) == len(df[df['Manufacturer'].notnull() & \n",
    "                                              df['Manufacturer'].str.contains(\"power boats\")]))\n",
    "\n",
    "df['Manufacturer'] = df['Manufacturer'].replace({' power boats':''}, regex=True)"
   ]
  },
  {
   "cell_type": "code",
   "execution_count": 15,
   "id": "ed2600d1-b41a-45ee-95b1-15b13cd3e371",
   "metadata": {},
   "outputs": [
    {
     "name": "stdout",
     "output_type": "stream",
     "text": [
      "['Switzerland' 'Germany' 'Denmark' 'Italy' 'France' 'United Kingdom'\n",
      " 'Spain' 'Austria' 'Netherlands' 'Slovenia' 'Serbia' 'Belgium'\n",
      " 'Slovak Republic' 'Croatia (Hrvatska)' 'Portugal' 'Malta' 'Montenegro'\n",
      " 'Latvia' 'Rovinij' 'Steinwiesen' 'Greece' 'Rolle' 'Poland' 'baden baden'\n",
      " 'Donau' 'TravemÃ¼nde ' 'Lake Constance' 'Turkey' 'Stralsund ' 'Rostock '\n",
      " 'Lake Geneva' 'Split' 'Finland' 'lago maggiore' 'BelgiÃ«, Zulte '\n",
      " 'Niederrhein' 'Hungary' 'Brandenburg an derHavel' 'RÃ¼gen' 'Zevenbergen'\n",
      " 'Oder' 'Cyprus' 'Faoug' 'Beilngries ' 'Czech Republic' 'Sweden'\n",
      " 'Lithuania' 'United States' 'Marina Punat' 'Ukraine'\n",
      " 'French Southern Territories' 'Italien ' 'Brandenburg ' None 'Estonia'\n",
      " 'Monaco' 'Russian Federation' 'waren mÃ¼ritz ' 'Egypt' 'Jersey'\n",
      " 'United Arab Emirates' 'Australia' 'Bulgaria' 'Philippines' 'Taiwan'\n",
      " 'Thailand' 'Luxembourg' 'Venezuela' 'Neustadt in Holstein (Ostsee)'\n",
      " 'Ireland' 'Adria' 'Martinique' 'Norway' 'Seychelles' 'Morocco'\n",
      " 'Gibraltar' 'Lebanon' 'Ostsee' 'Mallorca ' 'Greetsile/ KrummhÃ¶rn'\n",
      " 'annecy' 'Izola' '83278 Traunstein' 'Novi Vinodolski ' 'Croatia' 'Italie'\n",
      " 'Dalmatien' 'Lago di Garda ' 'Opwijk' 'NordseekÃ¼ste' 'Isle of Man'\n",
      " '24782 BÃ¼delsdorf ' 'Neusiedl am See' 'bodensee'\n",
      " 'PT Ã¸stkysten ellers Esbjerg ' 'Romania' 'Calanova Mallorca ' 'Avenches'\n",
      " 'Heilbronn' 'ZÃ¼richse, 8855 Wangen SZ' 'espa?a ' 'Kroatien Krk' 'Ibiza'\n",
      " 'Katwijk ' 'Lommel' 'Wijdenes' 'Lago Maggiore' 'Bremen' 'Bielefeld'\n",
      " 'Porto Rotondo' 'Berlin Wannsee ' 'Toscana' 'Tenero, lago Maggiore'\n",
      " 'VierwaldstÃ¤ttersee - Buochs' 'FuÃ\\x9fach' 'Angera '\n",
      " 'Lago Maggiore, Minusio' 'Thalwil' 'Juelsminde Havn ' 'Rheinfelden'\n",
      " 'Barssel' 'Welschenrohr' 'Thun']\n"
     ]
    }
   ],
   "source": [
    "df_countries = df[\"Location\"].str.split(\" Â» \", expand=True)[0]\n",
    "print(df_countries.unique())"
   ]
  },
  {
   "cell_type": "markdown",
   "id": "bc1d4770-5df1-41d0-88fc-b0e7ba2e239f",
   "metadata": {},
   "source": [
    "### Creation of new variables country and continent"
   ]
  },
  {
   "cell_type": "markdown",
   "id": "55ff554e-7a93-4706-81bd-062b8a17448b",
   "metadata": {},
   "source": [
    "Some of these names are ilegible. Any name with special characters will be replace by None."
   ]
  },
  {
   "cell_type": "code",
   "execution_count": 16,
   "id": "3311767d-9687-4e79-8bf0-12b283b2c210",
   "metadata": {},
   "outputs": [],
   "source": [
    "loc_tmp = df[\"Location\"].str.split(\" Â» \", expand=True)\n",
    "\n",
    "geolocator = Nominatim(user_agent='test', timeout=300)\n",
    "alphabet = 'abcdefghijklmnopqrstuvwxyzABCDEFGHIJKLMNOPQRSTUVWXYZ, ()'\n",
    "loc_tmp[loc_tmp[0].str.strip(alphabet).astype(bool) == True] = None\n",
    "main_locations = loc_tmp[loc_tmp[0].str.strip(alphabet).astype(bool) == False][0].unique()\n",
    "\n",
    "countries = {}\n",
    "bad = []\n",
    "\n",
    "for item in main_locations:\n",
    "    loc = geolocator.geocode(item)\n",
    "    if loc != None:\n",
    "        rev = geolocator.reverse(loc.point, language=\"en\")\n",
    "        if rev != None:\n",
    "            country = rev.raw[\"address\"][\"country\"]\n",
    "            countries[item] = country\n",
    "    else:\n",
    "        bad.append(item)\n",
    "        countries[item] = None\n",
    "        \n",
    "loc_tmp[0] = loc_tmp[0].replace(to_replace=countries.keys(), value=countries.values())\n",
    "    \n",
    "df['Country'] = loc_tmp[0]"
   ]
  },
  {
   "cell_type": "code",
   "execution_count": 17,
   "id": "9be92f16-7617-4249-a046-65b9325db980",
   "metadata": {},
   "outputs": [
    {
     "data": {
      "text/plain": [
       "array(['Switzerland', 'Germany', 'Denmark', 'Italy', 'France',\n",
       "       'United Kingdom', 'Spain', 'Austria', 'Netherlands', 'Slovenia',\n",
       "       'Serbia', 'Belgium', 'Slovakia', 'Croatia', 'Portugal', 'Malta',\n",
       "       'Montenegro', 'Latvia', None, 'Greece', 'Poland', 'Hungary',\n",
       "       'Turkey', 'United States', 'Finland', 'Cyprus', 'Czechia',\n",
       "       'Sweden', 'Lithuania', 'Ukraine', 'Estonia', 'Monaco', 'Russia',\n",
       "       'Egypt', 'Jersey', 'United Arab Emirates', 'Australia', 'Bulgaria',\n",
       "       'Philippines', 'Taiwan', 'Thailand', 'Luxembourg', 'Venezuela',\n",
       "       'Ireland', 'Norway', 'Seychelles', 'Morocco', 'Gibraltar',\n",
       "       'Lebanon', 'Ostsee', 'Isle of Man', 'Romania'], dtype=object)"
      ]
     },
     "execution_count": 17,
     "metadata": {},
     "output_type": "execute_result"
    }
   ],
   "source": [
    "df[\"Country\"].unique()"
   ]
  },
  {
   "cell_type": "markdown",
   "id": "5f5ec9f3-9687-4aa2-83ca-af76c7cc32e5",
   "metadata": {},
   "source": [
    "We will also add continents."
   ]
  },
  {
   "cell_type": "code",
   "execution_count": 18,
   "id": "ca9defc7-48d5-4c2e-9624-60e469a3f63e",
   "metadata": {},
   "outputs": [],
   "source": [
    "df['Continent'] = \"\"\n",
    "\n",
    "df['Continent'] = np.where(df['Country'].isin(['United Arab Emirates', 'Philippines', 'Taiwan', \n",
    "                                               'Thailand', 'Lebanon']), \"Asia\", \"Europe\")\n",
    "\n",
    "df['Continent'] = np.where(df['Country'].isin(['Egypt', 'Morocco']), \"Africa\", df['Continent'])\n",
    "\n",
    "df['Continent'] = np.where(df['Country'].isin(['United States', 'Venezuela']), \"America\", df['Continent'])\n",
    "\n",
    "df['Continent'] = np.where(df['Country'].isin(['Australia']), \"Oceania\", df['Continent'])\n",
    "\n",
    "df['Continent'] = np.where(df['Country'].isin([None]), None, df['Continent'])"
   ]
  },
  {
   "cell_type": "markdown",
   "id": "14f361b2-1150-4674-ad2d-2974f9b17d08",
   "metadata": {},
   "source": [
    "We will do three final steps to complete the data cleaning phase:\n",
    "- Join boat type and type dataframes with df\n",
    "- Drop boat type and type \n",
    "- Save the cleaned data"
   ]
  },
  {
   "cell_type": "markdown",
   "id": "84e81cf3-5188-425c-86e9-9f1a69ee67ba",
   "metadata": {},
   "source": [
    "### Save cleaned data\n",
    "To save time, we can restart the notebook from here."
   ]
  },
  {
   "cell_type": "code",
   "execution_count": 19,
   "id": "90d5b128-4055-46b1-881e-53daf3bc21de",
   "metadata": {},
   "outputs": [],
   "source": [
    "df = df[['Price', 'Manufacturer', 'Year Built', 'Length',\n",
    "       'Width', 'Material', 'Country', 'Continent', 'Number of views last 7 days']]\n",
    "df = df.join([df_boat_type, df_type])\n",
    "\n",
    "df.to_csv(\"data_cleaned.csv\")"
   ]
  },
  {
   "cell_type": "markdown",
   "id": "d74cb901-12cb-41d4-8877-cb893e5ada1c",
   "metadata": {},
   "source": [
    "## Methodology\n",
    "\n",
    "We have access to the number of views of 9888 boat listings for the last 7\n",
    "days.\n",
    "We will select the boat listings that account for 10% (150 boat listings) of the\n",
    "total number of views and analyze which features they have in common. We\n",
    "will also compare how the selected listings compare with the others, e.g. in\n",
    "terms of price.\n",
    "We will provide the marketing team with the most common features of\n",
    "popular boat listings, as well as identify the countries where we anticipate a\n",
    "better reception of our newsletter."
   ]
  },
  {
   "cell_type": "code",
   "execution_count": 141,
   "id": "dc669015-99b3-44a3-b56c-b26a931be25d",
   "metadata": {},
   "outputs": [
    {
     "data": {
      "text/html": [
       "<div>\n",
       "<style scoped>\n",
       "    .dataframe tbody tr th:only-of-type {\n",
       "        vertical-align: middle;\n",
       "    }\n",
       "\n",
       "    .dataframe tbody tr th {\n",
       "        vertical-align: top;\n",
       "    }\n",
       "\n",
       "    .dataframe thead th {\n",
       "        text-align: right;\n",
       "    }\n",
       "</style>\n",
       "<table border=\"1\" class=\"dataframe\">\n",
       "  <thead>\n",
       "    <tr style=\"text-align: right;\">\n",
       "      <th></th>\n",
       "      <th>Price</th>\n",
       "      <th>Manufacturer</th>\n",
       "      <th>Year Built</th>\n",
       "      <th>Length</th>\n",
       "      <th>Width</th>\n",
       "      <th>Material</th>\n",
       "      <th>Country</th>\n",
       "      <th>Continent</th>\n",
       "      <th>Number of views last 7 days</th>\n",
       "      <th>Boat type_Motor Yacht</th>\n",
       "      <th>...</th>\n",
       "      <th>Type_new boat from stock</th>\n",
       "      <th>Type_Used boat</th>\n",
       "      <th>Type_new boat on order</th>\n",
       "      <th>Type_Unleaded</th>\n",
       "      <th>Type_Diesel</th>\n",
       "      <th>Type_Display Model</th>\n",
       "      <th>Type_Electric</th>\n",
       "      <th>Type_Gas</th>\n",
       "      <th>Type_Hybrid</th>\n",
       "      <th>Type_Propane</th>\n",
       "    </tr>\n",
       "  </thead>\n",
       "  <tbody>\n",
       "    <tr>\n",
       "      <th>0</th>\n",
       "      <td>3203.52</td>\n",
       "      <td>Rigiflex</td>\n",
       "      <td>2017.0</td>\n",
       "      <td>4.00</td>\n",
       "      <td>1.90</td>\n",
       "      <td>NaN</td>\n",
       "      <td>Switzerland</td>\n",
       "      <td>Europe</td>\n",
       "      <td>226.0</td>\n",
       "      <td>1</td>\n",
       "      <td>...</td>\n",
       "      <td>1</td>\n",
       "      <td>0</td>\n",
       "      <td>0</td>\n",
       "      <td>0</td>\n",
       "      <td>0</td>\n",
       "      <td>0</td>\n",
       "      <td>0</td>\n",
       "      <td>0</td>\n",
       "      <td>0</td>\n",
       "      <td>0</td>\n",
       "    </tr>\n",
       "    <tr>\n",
       "      <th>1</th>\n",
       "      <td>3490.00</td>\n",
       "      <td>Terhi</td>\n",
       "      <td>2020.0</td>\n",
       "      <td>4.00</td>\n",
       "      <td>1.50</td>\n",
       "      <td>Thermoplastic</td>\n",
       "      <td>Germany</td>\n",
       "      <td>Europe</td>\n",
       "      <td>75.0</td>\n",
       "      <td>0</td>\n",
       "      <td>...</td>\n",
       "      <td>1</td>\n",
       "      <td>0</td>\n",
       "      <td>0</td>\n",
       "      <td>0</td>\n",
       "      <td>0</td>\n",
       "      <td>0</td>\n",
       "      <td>0</td>\n",
       "      <td>0</td>\n",
       "      <td>0</td>\n",
       "      <td>0</td>\n",
       "    </tr>\n",
       "    <tr>\n",
       "      <th>2</th>\n",
       "      <td>3619.20</td>\n",
       "      <td>Marine</td>\n",
       "      <td>NaN</td>\n",
       "      <td>3.69</td>\n",
       "      <td>1.42</td>\n",
       "      <td>Aluminium</td>\n",
       "      <td>Switzerland</td>\n",
       "      <td>Europe</td>\n",
       "      <td>124.0</td>\n",
       "      <td>0</td>\n",
       "      <td>...</td>\n",
       "      <td>1</td>\n",
       "      <td>0</td>\n",
       "      <td>0</td>\n",
       "      <td>0</td>\n",
       "      <td>0</td>\n",
       "      <td>0</td>\n",
       "      <td>0</td>\n",
       "      <td>0</td>\n",
       "      <td>0</td>\n",
       "      <td>0</td>\n",
       "    </tr>\n",
       "    <tr>\n",
       "      <th>3</th>\n",
       "      <td>3367.00</td>\n",
       "      <td>Pioner</td>\n",
       "      <td>2020.0</td>\n",
       "      <td>3.00</td>\n",
       "      <td>1.00</td>\n",
       "      <td>NaN</td>\n",
       "      <td>Denmark</td>\n",
       "      <td>Europe</td>\n",
       "      <td>64.0</td>\n",
       "      <td>0</td>\n",
       "      <td>...</td>\n",
       "      <td>1</td>\n",
       "      <td>0</td>\n",
       "      <td>0</td>\n",
       "      <td>0</td>\n",
       "      <td>0</td>\n",
       "      <td>0</td>\n",
       "      <td>0</td>\n",
       "      <td>0</td>\n",
       "      <td>0</td>\n",
       "      <td>0</td>\n",
       "    </tr>\n",
       "    <tr>\n",
       "      <th>4</th>\n",
       "      <td>3399.00</td>\n",
       "      <td>Linder</td>\n",
       "      <td>2019.0</td>\n",
       "      <td>3.55</td>\n",
       "      <td>1.46</td>\n",
       "      <td>Aluminium</td>\n",
       "      <td>Germany</td>\n",
       "      <td>Europe</td>\n",
       "      <td>58.0</td>\n",
       "      <td>0</td>\n",
       "      <td>...</td>\n",
       "      <td>1</td>\n",
       "      <td>0</td>\n",
       "      <td>0</td>\n",
       "      <td>0</td>\n",
       "      <td>0</td>\n",
       "      <td>0</td>\n",
       "      <td>0</td>\n",
       "      <td>0</td>\n",
       "      <td>0</td>\n",
       "      <td>0</td>\n",
       "    </tr>\n",
       "  </tbody>\n",
       "</table>\n",
       "<p>5 rows × 45 columns</p>\n",
       "</div>"
      ],
      "text/plain": [
       "     Price Manufacturer  Year Built  Length  Width       Material  \\\n",
       "0  3203.52     Rigiflex      2017.0    4.00   1.90            NaN   \n",
       "1  3490.00        Terhi      2020.0    4.00   1.50  Thermoplastic   \n",
       "2  3619.20       Marine         NaN    3.69   1.42      Aluminium   \n",
       "3  3367.00       Pioner      2020.0    3.00   1.00            NaN   \n",
       "4  3399.00       Linder      2019.0    3.55   1.46      Aluminium   \n",
       "\n",
       "       Country Continent  Number of views last 7 days  Boat type_Motor Yacht  \\\n",
       "0  Switzerland    Europe                        226.0                      1   \n",
       "1      Germany    Europe                         75.0                      0   \n",
       "2  Switzerland    Europe                        124.0                      0   \n",
       "3      Denmark    Europe                         64.0                      0   \n",
       "4      Germany    Europe                         58.0                      0   \n",
       "\n",
       "   ...  Type_new boat from stock  Type_Used boat  Type_new boat on order  \\\n",
       "0  ...                         1               0                       0   \n",
       "1  ...                         1               0                       0   \n",
       "2  ...                         1               0                       0   \n",
       "3  ...                         1               0                       0   \n",
       "4  ...                         1               0                       0   \n",
       "\n",
       "   Type_Unleaded  Type_Diesel  Type_Display Model  Type_Electric  Type_Gas  \\\n",
       "0              0            0                   0              0         0   \n",
       "1              0            0                   0              0         0   \n",
       "2              0            0                   0              0         0   \n",
       "3              0            0                   0              0         0   \n",
       "4              0            0                   0              0         0   \n",
       "\n",
       "   Type_Hybrid  Type_Propane  \n",
       "0            0             0  \n",
       "1            0             0  \n",
       "2            0             0  \n",
       "3            0             0  \n",
       "4            0             0  \n",
       "\n",
       "[5 rows x 45 columns]"
      ]
     },
     "execution_count": 141,
     "metadata": {},
     "output_type": "execute_result"
    }
   ],
   "source": [
    "new_df = pd.read_csv(\"data_cleaned.csv\", index_col=0)\n",
    "new_df.head()"
   ]
  },
  {
   "cell_type": "markdown",
   "id": "d5a6f51b-7535-4a3d-a9c2-b378f62fc461",
   "metadata": {},
   "source": [
    "### Creation of new variable price_rank"
   ]
  },
  {
   "cell_type": "markdown",
   "id": "e6698123-b9e7-4ff1-8b5e-05d9634ed405",
   "metadata": {},
   "source": [
    "After a brief analysis (a few cells below), we decided to include price rank."
   ]
  },
  {
   "cell_type": "code",
   "execution_count": 142,
   "id": "4e68555b-9fa6-4066-9392-5738ad4abbe2",
   "metadata": {},
   "outputs": [],
   "source": [
    "new_df['Price_rank'] = new_df['Price'].rank(method='dense')"
   ]
  },
  {
   "cell_type": "markdown",
   "id": "5d2170b7-d07e-4149-9ce2-44b4bfbad853",
   "metadata": {},
   "source": [
    "### Selection of the boat listings that account for 10% of the views"
   ]
  },
  {
   "cell_type": "code",
   "execution_count": 143,
   "id": "3ccbd8d6-8bf4-42ca-a405-719438a2d520",
   "metadata": {},
   "outputs": [
    {
     "name": "stdout",
     "output_type": "stream",
     "text": [
      "We selected 150 boat listings.\n"
     ]
    }
   ],
   "source": [
    "new_df = new_df.sort_values(\"Number of views last 7 days\", ascending=False)\n",
    "new_df[\"views_cumsum\"] = new_df[\"Number of views last 7 days\"].cumsum()\n",
    "\n",
    "new_df = new_df.reset_index()\n",
    "\n",
    "idx = np.argmin(abs(new_df['views_cumsum'] - sum(new_df[\"Number of views last 7 days\"])*0.1))\n",
    "\n",
    "popular_df = new_df.loc[:149, :]\n",
    "\n",
    "print(\"We selected {} boat listings.\".format(len(popular_df)))"
   ]
  },
  {
   "cell_type": "markdown",
   "id": "2d51b5cd-12c5-42b9-b6ee-fde3739b78b0",
   "metadata": {},
   "source": [
    "### Plots of numerical data"
   ]
  },
  {
   "cell_type": "markdown",
   "id": "94119952-fe2b-4a40-b055-444c2d61b954",
   "metadata": {},
   "source": [
    "For the numerical data, stripplots are a good option. For coherence, we will keep the popular boat listings in orange and the rest as grey."
   ]
  },
  {
   "cell_type": "code",
   "execution_count": 180,
   "id": "10aaa9e5-8273-422a-8add-3bb66912e621",
   "metadata": {},
   "outputs": [],
   "source": [
    "def do_stripplot(new_df, popular_df, col, title, xlabel):\n",
    "\n",
    "    f = plt.figure(figsize=(8,4))\n",
    "\n",
    "    ax = sns.stripplot(x=new_df[col], color=\"0.8\", label=\"All listings\", size=6)\n",
    "\n",
    "    ax = sns.stripplot(x=popular_df[col], color=\"orange\", label=\"Popular listings\", size=6)\n",
    "\n",
    "    sns.despine(bottom = True, left = True)\n",
    "\n",
    "    plt.title(title, color=\"orange\", fontweight=\"bold\", fontsize=16)\n",
    "    plt.legend(fontsize=13)\n",
    "\n",
    "    ax.xaxis.labelpad = 2\n",
    "    ax.set_xlabel(xlabel, fontsize=13)\n",
    "    \n",
    "    if col == 'Length':\n",
    "        plt.xticks(np.arange(0, 104, 5))\n",
    "        \n",
    "    elif col == 'Width':\n",
    "        plt.xticks(np.arange(0, 27, 2))\n",
    "        \n",
    "    f.tight_layout()\n",
    "    \n",
    "    plt.savefig(\"images/{}.png\".format(col), transparent=True, dpi=120)"
   ]
  },
  {
   "cell_type": "code",
   "execution_count": 181,
   "id": "67d17678-12fa-4ee4-8066-54bfb9d34322",
   "metadata": {},
   "outputs": [
    {
     "data": {
      "image/png": "[encoded data removed]",
      "text/plain": [
       "<Figure size 576x288 with 1 Axes>"
      ]
     },
     "metadata": {
      "needs_background": "light"
     },
     "output_type": "display_data"
    }
   ],
   "source": [
    "do_stripplot(new_df, popular_df, \"Price\", \"Distribution of price\", \"Price\")"
   ]
  },
  {
   "cell_type": "markdown",
   "id": "5c726dd2-b414-402f-8d8f-7c9a4b93df29",
   "metadata": {},
   "source": [
    "This plot does not show any relevant information. Instead of price, we can use a price rank.\n",
    "I will create it before creating popular_df, so that popular_df has that information."
   ]
  },
  {
   "cell_type": "code",
   "execution_count": 182,
   "id": "935119e9-0acc-4094-885c-af360a0a926b",
   "metadata": {},
   "outputs": [
    {
     "data": {
      "image/png": "[encoded data removed]",
      "text/plain": [
       "<Figure size 576x288 with 1 Axes>"
      ]
     },
     "metadata": {
      "needs_background": "light"
     },
     "output_type": "display_data"
    }
   ],
   "source": [
    "do_stripplot(new_df, popular_df, \"Price_rank\", \"Distribution of price rank\", \"Price rank\")"
   ]
  },
  {
   "cell_type": "markdown",
   "id": "ae31ac29-f709-455f-84ed-b14a64456e90",
   "metadata": {},
   "source": [
    "The 150 most popular listings are among the 1000th cheapest. This poses two questions:\n",
    "- Exactly how many popular boats are among the 1000th cheapest boat listings?\n",
    "- What is the price of the 1000th cheapest boat listings?\n",
    "- Is there a direct connection?"
   ]
  },
  {
   "cell_type": "code",
   "execution_count": 183,
   "id": "f5d6e620-29da-4929-8b0a-70c787131ca3",
   "metadata": {},
   "outputs": [
    {
     "name": "stdout",
     "output_type": "stream",
     "text": [
      "86 out of the 150 most popular boat listings are among the 1000th cheapest (less than 48864).\n"
     ]
    },
    {
     "data": {
      "image/png": "[encoded data removed]",
      "text/plain": [
       "<Figure size 432x288 with 1 Axes>"
      ]
     },
     "metadata": {
      "needs_background": "light"
     },
     "output_type": "display_data"
    }
   ],
   "source": [
    "price_1000 = int(new_df[new_df['Price_rank'] == 1000]['Price'])\n",
    "\n",
    "print(\"{} out of the 150 most popular boat listings are among the \\\n",
    "1000th cheapest (less than {}).\".format(len(popular_df[popular_df['Price'] <= price_1000]),\n",
    "                                       price_1000))\n",
    "\n",
    "plt.scatter(popular_df['Price_rank'], popular_df['Number of views last 7 days'])\n",
    "plt.title(\"Price rank vs Number of views last 7 days\")\n",
    "plt.xlabel(\"Price rank\")\n",
    "plt.ylabel(\"Number of views last 7 days\")\n",
    "\n",
    "plt.show()"
   ]
  },
  {
   "cell_type": "markdown",
   "id": "09862d58-d14e-4997-8809-0508068d90dd",
   "metadata": {},
   "source": [
    "There is not a direct connection. However, this is not a good plot for a presentation. This information is easier conveyed by a table."
   ]
  },
  {
   "cell_type": "code",
   "execution_count": 184,
   "id": "0d8299b8-fd9b-4700-8a8a-53e69cd754fa",
   "metadata": {},
   "outputs": [
    {
     "data": {
      "text/html": [
       "<div>\n",
       "<style scoped>\n",
       "    .dataframe tbody tr th:only-of-type {\n",
       "        vertical-align: middle;\n",
       "    }\n",
       "\n",
       "    .dataframe tbody tr th {\n",
       "        vertical-align: top;\n",
       "    }\n",
       "\n",
       "    .dataframe thead th {\n",
       "        text-align: right;\n",
       "    }\n",
       "</style>\n",
       "<table border=\"1\" class=\"dataframe\">\n",
       "  <thead>\n",
       "    <tr style=\"text-align: right;\">\n",
       "      <th></th>\n",
       "      <th>Price_rank</th>\n",
       "    </tr>\n",
       "  </thead>\n",
       "  <tbody>\n",
       "    <tr>\n",
       "      <th>0</th>\n",
       "      <td>259</td>\n",
       "    </tr>\n",
       "    <tr>\n",
       "      <th>1</th>\n",
       "      <td>687</td>\n",
       "    </tr>\n",
       "    <tr>\n",
       "      <th>2</th>\n",
       "      <td>1748</td>\n",
       "    </tr>\n",
       "    <tr>\n",
       "      <th>3</th>\n",
       "      <td>2730</td>\n",
       "    </tr>\n",
       "    <tr>\n",
       "      <th>4</th>\n",
       "      <td>377</td>\n",
       "    </tr>\n",
       "  </tbody>\n",
       "</table>\n",
       "</div>"
      ],
      "text/plain": [
       "   Price_rank\n",
       "0         259\n",
       "1         687\n",
       "2        1748\n",
       "3        2730\n",
       "4         377"
      ]
     },
     "execution_count": 184,
     "metadata": {},
     "output_type": "execute_result"
    }
   ],
   "source": [
    "popular_df[['Price_rank']].head(5).astype('int')"
   ]
  },
  {
   "cell_type": "code",
   "execution_count": 185,
   "id": "ef81c2fe-be83-4096-a072-b22b5385282c",
   "metadata": {},
   "outputs": [
    {
     "data": {
      "image/png": "[encoded data removed]",
      "text/plain": [
       "<Figure size 576x288 with 1 Axes>"
      ]
     },
     "metadata": {
      "needs_background": "light"
     },
     "output_type": "display_data"
    }
   ],
   "source": [
    "do_stripplot(new_df, popular_df, 'Year Built', \"Distribution of building date\", \"Year\")"
   ]
  },
  {
   "cell_type": "markdown",
   "id": "b06a2f68-4e91-4300-a5ec-5e9a01c4ba2f",
   "metadata": {},
   "source": [
    "The most popular listings have all been built during the 20th and 21st centuries, with most of them having been built after 1980."
   ]
  },
  {
   "cell_type": "code",
   "execution_count": 186,
   "id": "d6ab71a0-fc15-4804-a91e-279c8043299e",
   "metadata": {},
   "outputs": [
    {
     "data": {
      "image/png": "[encoded data removed]",
      "text/plain": [
       "<Figure size 576x288 with 1 Axes>"
      ]
     },
     "metadata": {
      "needs_background": "light"
     },
     "output_type": "display_data"
    }
   ],
   "source": [
    "do_stripplot(new_df, popular_df, 'Length', \"Distribution of length\", \"Length (m)\")"
   ]
  },
  {
   "cell_type": "markdown",
   "id": "e3e2d510-23af-4f18-b86b-cffe41289e9c",
   "metadata": {},
   "source": [
    "Users search mostly boats with lengths between 5 and 15 metres."
   ]
  },
  {
   "cell_type": "code",
   "execution_count": 187,
   "id": "6ea2e7c3-d088-412e-905e-e39adb9e3697",
   "metadata": {},
   "outputs": [
    {
     "data": {
      "image/png": "[encoded data removed]",
      "text/plain": [
       "<Figure size 576x288 with 1 Axes>"
      ]
     },
     "metadata": {
      "needs_background": "light"
     },
     "output_type": "display_data"
    }
   ],
   "source": [
    "do_stripplot(new_df, popular_df, 'Width', \"Distribution of width\", \"Width (m)\")"
   ]
  },
  {
   "cell_type": "markdown",
   "id": "03a5755e-899c-4f30-9c97-f72f6c740aa7",
   "metadata": {},
   "source": [
    "Users search mostly boats with widths between 2 and 4 metres."
   ]
  },
  {
   "cell_type": "markdown",
   "id": "b7d28ea6-2187-4128-a902-21f7c9409657",
   "metadata": {},
   "source": [
    "### Plots of categorical data"
   ]
  },
  {
   "cell_type": "markdown",
   "id": "dc842bae-f844-4eaf-9598-d6af5b85002a",
   "metadata": {},
   "source": [
    "For the categorical variables, except location, bar plots will be used. \n",
    "\n",
    "For location, given that most places but not all are in Europe, a treemap is preferred.\n",
    "\n",
    "For readability reasons, the barplots should not have more than 8 bars."
   ]
  },
  {
   "cell_type": "code",
   "execution_count": 152,
   "id": "a4d9c28e-2a6c-44de-8921-4155c01cdcae",
   "metadata": {},
   "outputs": [
    {
     "data": {
      "text/plain": [
       "Bavaria      181\n",
       "Bayliner     137\n",
       "Malibu         5\n",
       "Princess     235\n",
       "Sea Ray      232\n",
       "Sunseeker    376\n",
       "Windy         56\n",
       "Name: Manufacturer, dtype: int64"
      ]
     },
     "execution_count": 152,
     "metadata": {},
     "output_type": "execute_result"
    }
   ],
   "source": [
    "x1 = popular_df[\"Manufacturer\"].value_counts()[popular_df[\"Manufacturer\"].value_counts() > 3].sort_index() \n",
    "df_tmp = new_df.drop(popular_df.index)\n",
    "df_tmp[\"Manufacturer\"].value_counts()[df_tmp[\"Manufacturer\"].value_counts().index.isin(x1.index)].sort_index()"
   ]
  },
  {
   "cell_type": "code",
   "execution_count": 153,
   "id": "e371a4cb-eb61-402a-ad47-ffa12f314aa5",
   "metadata": {},
   "outputs": [
    {
     "data": {
      "text/plain": [
       "Index([], dtype='object')"
      ]
     },
     "execution_count": 153,
     "metadata": {},
     "output_type": "execute_result"
    }
   ],
   "source": [
    "new_df.columns\n",
    "\n",
    "a = [s for s in new_df.columns if \"Boat Type\" in s]\n",
    "\n",
    "new_df[a].columns.str.replace(\"Boat Type\"+\"_\", \"\")"
   ]
  },
  {
   "cell_type": "code",
   "execution_count": 169,
   "id": "0e1ef0d9-a727-4c9b-8d79-158643d93fdc",
   "metadata": {},
   "outputs": [],
   "source": [
    "def filter_value_counts (new_df, popular_df, col, limit):\n",
    "    x1 = popular_df[col].value_counts()[popular_df[col].value_counts() > limit]\n",
    "    x2 = new_df[col].value_counts()[new_df[col].value_counts().\n",
    "                                    index.isin(x1.index)].sort_values(ascending=False)\n",
    "    x1 = x1.reindex(x2.index)\n",
    "    return x1, x2\n",
    "\n",
    "def append_value (new_df, popular_df, col, dictionary):\n",
    "    x1 = popular_df[col].value_counts().append(pd.Series(dictionary)).sort_index() \n",
    "    x2 = df_tmp[col].value_counts()[df_tmp[col].value_counts().\n",
    "                                    index.isin(x1.index)].sort_values(ascending=False)\n",
    "    x1 = x1.reindex(x2.index)\n",
    "    return x1, x2\n",
    "\n",
    "def filter_sum (new_df, popular_df, variable, limit):\n",
    "    cols = [c for c in new_df.columns if variable in c]    \n",
    "    x1 = popular_df[cols].sum() [popular_df[cols].sum() > limit]\n",
    "    x2 = new_df[cols].sum() [new_df[cols].sum().index.isin(x1.index)].sort_values(ascending=False)\n",
    "    \n",
    "    x1 = x1.reindex(x2.index)\n",
    "    \n",
    "    x1.index = x1.index.str.replace(variable + \"_\", \"\")\n",
    "    x2.index = x2.index.str.replace(variable + \"_\", \"\")\n",
    "\n",
    "    return x1, x2\n",
    "\n",
    "def do_barplot (x1, x2, title, ylabel, figname):\n",
    "    fig, ax = plt.subplots(figsize=(10,5))\n",
    "    \n",
    "    sns.despine(bottom = True, left = True)\n",
    "    sns.barplot(x=x2, y=x2.index, label='All listings', color=\"0.8\")    \n",
    "    sns.barplot(x=x1, y=x1.index, label='Popular listings', color=\"orange\")\n",
    "\n",
    "    plt.xticks(fontsize=13)\n",
    "\n",
    "    plt.xlabel(\"Count\", fontsize=13)\n",
    "    plt.ylabel(ylabel, fontsize=13)\n",
    "    plt.title(title, color=\"orange\", fontweight=\"bold\", fontsize=16)\n",
    "    plt.legend(fontsize=15, loc='lower right')\n",
    "    \n",
    "    plt.savefig(\"images/{}.png\".format(figname), transparent=True, dpi=120)\n",
    "    \n",
    "    plt.show()\n",
    "\n",
    "    #plt.yticks(np.arange(0,410,50), fontsize=15)"
   ]
  },
  {
   "cell_type": "code",
   "execution_count": 170,
   "id": "61e62405-741c-4ec5-bb1b-3f9f3a3f31fb",
   "metadata": {},
   "outputs": [
    {
     "data": {
      "image/png": "[encoded data removed]",
      "text/plain": [
       "<Figure size 720x360 with 1 Axes>"
      ]
     },
     "metadata": {
      "needs_background": "light"
     },
     "output_type": "display_data"
    }
   ],
   "source": [
    "x1, x2 = filter_value_counts (new_df, popular_df, 'Manufacturer', 3) \n",
    "do_barplot(x1, x2, \"Most common manufacturers amongst popular listings\", \"Manufacturer\", \"manufacturer\")"
   ]
  },
  {
   "cell_type": "code",
   "execution_count": 171,
   "id": "b79f0775-b888-4560-82fb-6c750dd5b9dc",
   "metadata": {},
   "outputs": [
    {
     "data": {
      "image/png": "[encoded data removed]",
      "text/plain": [
       "<Figure size 720x360 with 1 Axes>"
      ]
     },
     "metadata": {
      "needs_background": "light"
     },
     "output_type": "display_data"
    }
   ],
   "source": [
    "x1, x2 = append_value (new_df, popular_df, 'Material', {\"PVC\":0})\n",
    "do_barplot(x1, x2, \"Materials amongst popular listings (and PVC)\", \"Material\", \"material\")"
   ]
  },
  {
   "cell_type": "code",
   "execution_count": 172,
   "id": "6d1ccd92-5f2c-450f-b965-1e0716d18117",
   "metadata": {},
   "outputs": [
    {
     "data": {
      "image/png": "[encoded data removed]",
      "text/plain": [
       "<Figure size 720x360 with 1 Axes>"
      ]
     },
     "metadata": {
      "needs_background": "light"
     },
     "output_type": "display_data"
    }
   ],
   "source": [
    "x1, x2 = filter_sum (new_df, popular_df, \"Boat type\", 3)\n",
    "do_barplot(x1, x2, \"Most common boat types amongst popular listings\", \"Boat type\", \"boat_type\")"
   ]
  },
  {
   "cell_type": "code",
   "execution_count": 173,
   "id": "03da615f-5cc3-48ad-baa8-410705938439",
   "metadata": {},
   "outputs": [
    {
     "data": {
      "image/png": "[encoded data removed]",
      "text/plain": [
       "<Figure size 720x360 with 1 Axes>"
      ]
     },
     "metadata": {
      "needs_background": "light"
     },
     "output_type": "display_data"
    }
   ],
   "source": [
    "x1, x2 = filter_sum (new_df, popular_df, \"Type\", 0)\n",
    "do_barplot(x1, x2, \"Most common types amongst popular listings\", \"Type\", \"type\")"
   ]
  },
  {
   "cell_type": "markdown",
   "id": "5e2314fd-0125-428f-b2e4-d47954c800cf",
   "metadata": {},
   "source": [
    "### Country treemap"
   ]
  },
  {
   "cell_type": "code",
   "execution_count": 174,
   "id": "7d401e05-8d28-455b-87d2-f4e9df7546f2",
   "metadata": {},
   "outputs": [
    {
     "data": {
      "image/png": "[encoded data removed]",
      "text/plain": [
       "<Figure size 1008x576 with 1 Axes>"
      ]
     },
     "metadata": {
      "needs_background": "light"
     },
     "output_type": "display_data"
    }
   ],
   "source": [
    "s = new_df.groupby(\"Country\")['Number of views last 7 days'].agg('sum').sort_values(ascending=False)\n",
    "\n",
    "sizes = s.values\n",
    "labels = s[s>50000].index\n",
    "\n",
    "labels = [f'{country}\\n\\n{int(count)}' for country, count in zip(labels, sizes)]\n",
    "\n",
    "cmap=matplotlib.cm.Oranges\n",
    "norm=matplotlib.colors.Normalize(vmin=sizes.min(),\n",
    "                                 vmax=sizes.max())\n",
    "\n",
    "colors=[cmap(norm(i)) for i in sizes]\n",
    "\n",
    "plt.figure(figsize=(14,8))\n",
    "title='Views per country'\n",
    "plt.title(title, size=20)\n",
    "squarify.plot(sizes, label=labels,alpha=0.8, color=colors, pad=True, \n",
    "              text_kwargs={'color':'black', 'size':15})\n",
    "plt.axis('off')\n",
    "\n",
    "plt.savefig(\"images/country.png\", transparent=True, dpi=120)\n",
    "plt.show()"
   ]
  },
  {
   "cell_type": "markdown",
   "id": "aadfb933-c8c2-4615-bd45-3f6ce70bd11f",
   "metadata": {},
   "source": [
    "The countries with the most views are all in Central Europe. Since they are all in the same continent, there is no need to use the Continent column."
   ]
  }
 ],
 "metadata": {
  "kernelspec": {
   "display_name": "Python 3 (ipykernel)",
   "language": "python",
   "name": "python3"
  },
  "language_info": {
   "codemirror_mode": {
    "name": "ipython",
    "version": 3
   },
   "file_extension": ".py",
   "mimetype": "text/x-python",
   "name": "python",
   "nbconvert_exporter": "python",
   "pygments_lexer": "ipython3",
   "version": "3.8.10"
  }
 },
 "nbformat": 4,
 "nbformat_minor": 5
}
